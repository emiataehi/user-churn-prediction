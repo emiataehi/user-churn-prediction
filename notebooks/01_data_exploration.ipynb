{
 "cells": [
  {
   "cell_type": "markdown",
   "id": "89163624",
   "metadata": {},
   "source": [
    "\n",
    "## Project Overview\n",
    "**Business Problem:** StreamTech is experiencing high customer churn, resulting in significant revenue loss.\n",
    "\n",
    "**Analysis Objective:** Identify which customer segments are most likely to churn and why, to inform targeted retention strategies.\n",
    "\n",
    "**Dataset:** 7,043 telecom customers with 20+ features including demographics, services, contract details, and churn status.\n",
    "\n",
    "**Key Finding:** 26.54% churn rate - approximately 1 in 4 customers are leaving."
   ]
  },
  {
   "cell_type": "code",
   "execution_count": 410,
   "id": "197bf89c",
   "metadata": {},
   "outputs": [],
   "source": [
    "import pandas as pd\n",
    "import matplotlib.pyplot as plt"
   ]
  },
  {
   "cell_type": "code",
   "execution_count": 411,
   "id": "4d271d7e",
   "metadata": {},
   "outputs": [],
   "source": [
    "df = pd.read_csv(\"C:/Users/Administrator/Desktop/user-churn-prediction/data/raw/Telco-Customer-Churn.csv\")"
   ]
  },
  {
   "cell_type": "code",
   "execution_count": 412,
   "id": "71602b34",
   "metadata": {},
   "outputs": [
    {
     "data": {
      "text/html": [
       "<div>\n",
       "<style scoped>\n",
       "    .dataframe tbody tr th:only-of-type {\n",
       "        vertical-align: middle;\n",
       "    }\n",
       "\n",
       "    .dataframe tbody tr th {\n",
       "        vertical-align: top;\n",
       "    }\n",
       "\n",
       "    .dataframe thead th {\n",
       "        text-align: right;\n",
       "    }\n",
       "</style>\n",
       "<table border=\"1\" class=\"dataframe\">\n",
       "  <thead>\n",
       "    <tr style=\"text-align: right;\">\n",
       "      <th></th>\n",
       "      <th>customerID</th>\n",
       "      <th>gender</th>\n",
       "      <th>SeniorCitizen</th>\n",
       "      <th>Partner</th>\n",
       "      <th>Dependents</th>\n",
       "      <th>tenure</th>\n",
       "      <th>PhoneService</th>\n",
       "      <th>MultipleLines</th>\n",
       "      <th>InternetService</th>\n",
       "      <th>OnlineSecurity</th>\n",
       "      <th>...</th>\n",
       "      <th>DeviceProtection</th>\n",
       "      <th>TechSupport</th>\n",
       "      <th>StreamingTV</th>\n",
       "      <th>StreamingMovies</th>\n",
       "      <th>Contract</th>\n",
       "      <th>PaperlessBilling</th>\n",
       "      <th>PaymentMethod</th>\n",
       "      <th>MonthlyCharges</th>\n",
       "      <th>TotalCharges</th>\n",
       "      <th>Churn</th>\n",
       "    </tr>\n",
       "  </thead>\n",
       "  <tbody>\n",
       "    <tr>\n",
       "      <th>0</th>\n",
       "      <td>7590-VHVEG</td>\n",
       "      <td>Female</td>\n",
       "      <td>0</td>\n",
       "      <td>Yes</td>\n",
       "      <td>No</td>\n",
       "      <td>1</td>\n",
       "      <td>No</td>\n",
       "      <td>No phone service</td>\n",
       "      <td>DSL</td>\n",
       "      <td>No</td>\n",
       "      <td>...</td>\n",
       "      <td>No</td>\n",
       "      <td>No</td>\n",
       "      <td>No</td>\n",
       "      <td>No</td>\n",
       "      <td>Month-to-month</td>\n",
       "      <td>Yes</td>\n",
       "      <td>Electronic check</td>\n",
       "      <td>29.85</td>\n",
       "      <td>29.85</td>\n",
       "      <td>No</td>\n",
       "    </tr>\n",
       "    <tr>\n",
       "      <th>1</th>\n",
       "      <td>5575-GNVDE</td>\n",
       "      <td>Male</td>\n",
       "      <td>0</td>\n",
       "      <td>No</td>\n",
       "      <td>No</td>\n",
       "      <td>34</td>\n",
       "      <td>Yes</td>\n",
       "      <td>No</td>\n",
       "      <td>DSL</td>\n",
       "      <td>Yes</td>\n",
       "      <td>...</td>\n",
       "      <td>Yes</td>\n",
       "      <td>No</td>\n",
       "      <td>No</td>\n",
       "      <td>No</td>\n",
       "      <td>One year</td>\n",
       "      <td>No</td>\n",
       "      <td>Mailed check</td>\n",
       "      <td>56.95</td>\n",
       "      <td>1889.5</td>\n",
       "      <td>No</td>\n",
       "    </tr>\n",
       "    <tr>\n",
       "      <th>2</th>\n",
       "      <td>3668-QPYBK</td>\n",
       "      <td>Male</td>\n",
       "      <td>0</td>\n",
       "      <td>No</td>\n",
       "      <td>No</td>\n",
       "      <td>2</td>\n",
       "      <td>Yes</td>\n",
       "      <td>No</td>\n",
       "      <td>DSL</td>\n",
       "      <td>Yes</td>\n",
       "      <td>...</td>\n",
       "      <td>No</td>\n",
       "      <td>No</td>\n",
       "      <td>No</td>\n",
       "      <td>No</td>\n",
       "      <td>Month-to-month</td>\n",
       "      <td>Yes</td>\n",
       "      <td>Mailed check</td>\n",
       "      <td>53.85</td>\n",
       "      <td>108.15</td>\n",
       "      <td>Yes</td>\n",
       "    </tr>\n",
       "    <tr>\n",
       "      <th>3</th>\n",
       "      <td>7795-CFOCW</td>\n",
       "      <td>Male</td>\n",
       "      <td>0</td>\n",
       "      <td>No</td>\n",
       "      <td>No</td>\n",
       "      <td>45</td>\n",
       "      <td>No</td>\n",
       "      <td>No phone service</td>\n",
       "      <td>DSL</td>\n",
       "      <td>Yes</td>\n",
       "      <td>...</td>\n",
       "      <td>Yes</td>\n",
       "      <td>Yes</td>\n",
       "      <td>No</td>\n",
       "      <td>No</td>\n",
       "      <td>One year</td>\n",
       "      <td>No</td>\n",
       "      <td>Bank transfer (automatic)</td>\n",
       "      <td>42.30</td>\n",
       "      <td>1840.75</td>\n",
       "      <td>No</td>\n",
       "    </tr>\n",
       "    <tr>\n",
       "      <th>4</th>\n",
       "      <td>9237-HQITU</td>\n",
       "      <td>Female</td>\n",
       "      <td>0</td>\n",
       "      <td>No</td>\n",
       "      <td>No</td>\n",
       "      <td>2</td>\n",
       "      <td>Yes</td>\n",
       "      <td>No</td>\n",
       "      <td>Fiber optic</td>\n",
       "      <td>No</td>\n",
       "      <td>...</td>\n",
       "      <td>No</td>\n",
       "      <td>No</td>\n",
       "      <td>No</td>\n",
       "      <td>No</td>\n",
       "      <td>Month-to-month</td>\n",
       "      <td>Yes</td>\n",
       "      <td>Electronic check</td>\n",
       "      <td>70.70</td>\n",
       "      <td>151.65</td>\n",
       "      <td>Yes</td>\n",
       "    </tr>\n",
       "  </tbody>\n",
       "</table>\n",
       "<p>5 rows × 21 columns</p>\n",
       "</div>"
      ],
      "text/plain": [
       "   customerID  gender  SeniorCitizen Partner Dependents  tenure PhoneService  \\\n",
       "0  7590-VHVEG  Female              0     Yes         No       1           No   \n",
       "1  5575-GNVDE    Male              0      No         No      34          Yes   \n",
       "2  3668-QPYBK    Male              0      No         No       2          Yes   \n",
       "3  7795-CFOCW    Male              0      No         No      45           No   \n",
       "4  9237-HQITU  Female              0      No         No       2          Yes   \n",
       "\n",
       "      MultipleLines InternetService OnlineSecurity  ... DeviceProtection  \\\n",
       "0  No phone service             DSL             No  ...               No   \n",
       "1                No             DSL            Yes  ...              Yes   \n",
       "2                No             DSL            Yes  ...               No   \n",
       "3  No phone service             DSL            Yes  ...              Yes   \n",
       "4                No     Fiber optic             No  ...               No   \n",
       "\n",
       "  TechSupport StreamingTV StreamingMovies        Contract PaperlessBilling  \\\n",
       "0          No          No              No  Month-to-month              Yes   \n",
       "1          No          No              No        One year               No   \n",
       "2          No          No              No  Month-to-month              Yes   \n",
       "3         Yes          No              No        One year               No   \n",
       "4          No          No              No  Month-to-month              Yes   \n",
       "\n",
       "               PaymentMethod MonthlyCharges  TotalCharges Churn  \n",
       "0           Electronic check          29.85         29.85    No  \n",
       "1               Mailed check          56.95        1889.5    No  \n",
       "2               Mailed check          53.85        108.15   Yes  \n",
       "3  Bank transfer (automatic)          42.30       1840.75    No  \n",
       "4           Electronic check          70.70        151.65   Yes  \n",
       "\n",
       "[5 rows x 21 columns]"
      ]
     },
     "execution_count": 412,
     "metadata": {},
     "output_type": "execute_result"
    }
   ],
   "source": [
    "df.head()"
   ]
  },
  {
   "cell_type": "code",
   "execution_count": 413,
   "id": "528f1571",
   "metadata": {},
   "outputs": [
    {
     "name": "stdout",
     "output_type": "stream",
     "text": [
      "<class 'pandas.core.frame.DataFrame'>\n",
      "RangeIndex: 7043 entries, 0 to 7042\n",
      "Data columns (total 21 columns):\n",
      " #   Column            Non-Null Count  Dtype  \n",
      "---  ------            --------------  -----  \n",
      " 0   customerID        7043 non-null   object \n",
      " 1   gender            7043 non-null   object \n",
      " 2   SeniorCitizen     7043 non-null   int64  \n",
      " 3   Partner           7043 non-null   object \n",
      " 4   Dependents        7043 non-null   object \n",
      " 5   tenure            7043 non-null   int64  \n",
      " 6   PhoneService      7043 non-null   object \n",
      " 7   MultipleLines     7043 non-null   object \n",
      " 8   InternetService   7043 non-null   object \n",
      " 9   OnlineSecurity    7043 non-null   object \n",
      " 10  OnlineBackup      7043 non-null   object \n",
      " 11  DeviceProtection  7043 non-null   object \n",
      " 12  TechSupport       7043 non-null   object \n",
      " 13  StreamingTV       7043 non-null   object \n",
      " 14  StreamingMovies   7043 non-null   object \n",
      " 15  Contract          7043 non-null   object \n",
      " 16  PaperlessBilling  7043 non-null   object \n",
      " 17  PaymentMethod     7043 non-null   object \n",
      " 18  MonthlyCharges    7043 non-null   float64\n",
      " 19  TotalCharges      7043 non-null   object \n",
      " 20  Churn             7043 non-null   object \n",
      "dtypes: float64(1), int64(2), object(18)\n",
      "memory usage: 1.1+ MB\n"
     ]
    }
   ],
   "source": [
    "df.info()"
   ]
  },
  {
   "cell_type": "code",
   "execution_count": 414,
   "id": "17994b6d",
   "metadata": {},
   "outputs": [
    {
     "data": {
      "text/plain": [
       "(7043, 21)"
      ]
     },
     "execution_count": 414,
     "metadata": {},
     "output_type": "execute_result"
    }
   ],
   "source": [
    "df.shape"
   ]
  },
  {
   "cell_type": "code",
   "execution_count": 415,
   "id": "03eae327",
   "metadata": {},
   "outputs": [
    {
     "data": {
      "text/plain": [
       "7043"
      ]
     },
     "execution_count": 415,
     "metadata": {},
     "output_type": "execute_result"
    }
   ],
   "source": [
    "len(df[\"Churn\"])"
   ]
  },
  {
   "cell_type": "code",
   "execution_count": 416,
   "id": "84172bf0",
   "metadata": {},
   "outputs": [
    {
     "data": {
      "text/plain": [
       "Churn\n",
       "No     5174\n",
       "Yes    1869\n",
       "Name: count, dtype: int64"
      ]
     },
     "execution_count": 416,
     "metadata": {},
     "output_type": "execute_result"
    }
   ],
   "source": [
    "df[\"Churn\"].value_counts()"
   ]
  },
  {
   "cell_type": "code",
   "execution_count": 417,
   "id": "2d8d0f1f",
   "metadata": {},
   "outputs": [],
   "source": [
    "stayed =  df['Churn'].value_counts().loc['No']\n",
    "churned = df['Churn'].value_counts().loc['Yes']"
   ]
  },
  {
   "cell_type": "code",
   "execution_count": 418,
   "id": "bbd9f11b",
   "metadata": {},
   "outputs": [
    {
     "data": {
      "image/png": "[encoded data removed]",
      "text/plain": [
       "<Figure size 1200x600 with 1 Axes>"
      ]
     },
     "metadata": {},
     "output_type": "display_data"
    },
    {
     "data": {
      "text/plain": [
       "<Figure size 800x500 with 0 Axes>"
      ]
     },
     "metadata": {},
     "output_type": "display_data"
    }
   ],
   "source": [
    "plt.bar(['Stayed', 'Churned'], [stayed, churned], color=['green', 'red'])\n",
    "plt.title('Customer Churn Analysis')\n",
    "plt.xlabel('Customer Status')\n",
    "plt.ylabel('Number of Customers')\n",
    "plt.figure(figsize=(8, 5))\n",
    "plt.show()"
   ]
  },
  {
   "cell_type": "code",
   "execution_count": 419,
   "id": "2e723496",
   "metadata": {},
   "outputs": [
    {
     "data": {
      "text/plain": [
       "Churn\n",
       "No     73.463013\n",
       "Yes    26.536987\n",
       "Name: proportion, dtype: float64"
      ]
     },
     "execution_count": 419,
     "metadata": {},
     "output_type": "execute_result"
    }
   ],
   "source": [
    "df[\"Churn\"].value_counts(normalize=True)*100"
   ]
  },
  {
   "cell_type": "code",
   "execution_count": 420,
   "id": "d6428e16",
   "metadata": {},
   "outputs": [
    {
     "data": {
      "text/plain": [
       "Index(['customerID', 'gender', 'SeniorCitizen', 'Partner', 'Dependents',\n",
       "       'tenure', 'PhoneService', 'MultipleLines', 'InternetService',\n",
       "       'OnlineSecurity', 'OnlineBackup', 'DeviceProtection', 'TechSupport',\n",
       "       'StreamingTV', 'StreamingMovies', 'Contract', 'PaperlessBilling',\n",
       "       'PaymentMethod', 'MonthlyCharges', 'TotalCharges', 'Churn'],\n",
       "      dtype='object')"
      ]
     },
     "execution_count": 420,
     "metadata": {},
     "output_type": "execute_result"
    }
   ],
   "source": [
    "df.columns"
   ]
  },
  {
   "cell_type": "markdown",
   "id": "0ec029e3",
   "metadata": {},
   "source": [
    "**REPORT**\n",
    "\n",
    "losing 26.5% of our customer base - that's more than 1 in 4 customers. This is significantly above the industry average of 5-10%. At this rate, if we don't fix this, we'll lose over a quarter of our revenue."
   ]
  },
  {
   "cell_type": "markdown",
   "id": "4e5f2c7b",
   "metadata": {},
   "source": [
    "## GENDER CHURN ANALYSIS"
   ]
  },
  {
   "cell_type": "code",
   "execution_count": 421,
   "id": "32de82fe",
   "metadata": {},
   "outputs": [
    {
     "data": {
      "text/plain": [
       "gender\n",
       "Male      3555\n",
       "Female    3488\n",
       "Name: count, dtype: int64"
      ]
     },
     "execution_count": 421,
     "metadata": {},
     "output_type": "execute_result"
    }
   ],
   "source": [
    "df[\"gender\"].value_counts()"
   ]
  },
  {
   "cell_type": "code",
   "execution_count": 422,
   "id": "75ac5f3d",
   "metadata": {},
   "outputs": [
    {
     "data": {
      "text/plain": [
       "gender\n",
       "Male      50.47565\n",
       "Female    49.52435\n",
       "Name: proportion, dtype: float64"
      ]
     },
     "execution_count": 422,
     "metadata": {},
     "output_type": "execute_result"
    }
   ],
   "source": [
    "df[\"gender\"].value_counts(normalize=True)*100"
   ]
  },
  {
   "cell_type": "code",
   "execution_count": 423,
   "id": "c70b1e71",
   "metadata": {},
   "outputs": [
    {
     "data": {
      "text/html": [
       "<div>\n",
       "<style scoped>\n",
       "    .dataframe tbody tr th:only-of-type {\n",
       "        vertical-align: middle;\n",
       "    }\n",
       "\n",
       "    .dataframe tbody tr th {\n",
       "        vertical-align: top;\n",
       "    }\n",
       "\n",
       "    .dataframe thead th {\n",
       "        text-align: right;\n",
       "    }\n",
       "</style>\n",
       "<table border=\"1\" class=\"dataframe\">\n",
       "  <thead>\n",
       "    <tr style=\"text-align: right;\">\n",
       "      <th></th>\n",
       "      <th>gender</th>\n",
       "      <th>Churn</th>\n",
       "      <th>count</th>\n",
       "    </tr>\n",
       "  </thead>\n",
       "  <tbody>\n",
       "    <tr>\n",
       "      <th>0</th>\n",
       "      <td>Female</td>\n",
       "      <td>No</td>\n",
       "      <td>2549</td>\n",
       "    </tr>\n",
       "    <tr>\n",
       "      <th>1</th>\n",
       "      <td>Female</td>\n",
       "      <td>Yes</td>\n",
       "      <td>939</td>\n",
       "    </tr>\n",
       "    <tr>\n",
       "      <th>2</th>\n",
       "      <td>Male</td>\n",
       "      <td>No</td>\n",
       "      <td>2625</td>\n",
       "    </tr>\n",
       "    <tr>\n",
       "      <th>3</th>\n",
       "      <td>Male</td>\n",
       "      <td>Yes</td>\n",
       "      <td>930</td>\n",
       "    </tr>\n",
       "  </tbody>\n",
       "</table>\n",
       "</div>"
      ],
      "text/plain": [
       "   gender Churn  count\n",
       "0  Female    No   2549\n",
       "1  Female   Yes    939\n",
       "2    Male    No   2625\n",
       "3    Male   Yes    930"
      ]
     },
     "execution_count": 423,
     "metadata": {},
     "output_type": "execute_result"
    }
   ],
   "source": [
    "df.groupby([\"gender\",\"Churn\"]).size().reset_index(name=\"count\")"
   ]
  },
  {
   "cell_type": "code",
   "execution_count": 424,
   "id": "c5098586",
   "metadata": {},
   "outputs": [
    {
     "data": {
      "text/plain": [
       "gender  Churn\n",
       "Male    No       2625\n",
       "Female  No       2549\n",
       "        Yes       939\n",
       "Male    Yes       930\n",
       "Name: count, dtype: int64"
      ]
     },
     "execution_count": 424,
     "metadata": {},
     "output_type": "execute_result"
    }
   ],
   "source": [
    "df[[\"gender\",\"Churn\"]].value_counts()"
   ]
  },
  {
   "cell_type": "code",
   "execution_count": 425,
   "id": "c38428e7",
   "metadata": {},
   "outputs": [
    {
     "data": {
      "text/plain": [
       "gender  Churn\n",
       "Male    No       37.271049\n",
       "Female  No       36.191964\n",
       "        Yes      13.332387\n",
       "Male    Yes      13.204600\n",
       "Name: proportion, dtype: float64"
      ]
     },
     "execution_count": 425,
     "metadata": {},
     "output_type": "execute_result"
    }
   ],
   "source": [
    "df[[\"gender\",\"Churn\"]].value_counts(normalize=True) * 100"
   ]
  },
  {
   "cell_type": "code",
   "execution_count": 426,
   "id": "cfbdc6e9",
   "metadata": {},
   "outputs": [
    {
     "data": {
      "text/plain": [
       "gender  Churn\n",
       "Male    No       2625\n",
       "Female  No       2549\n",
       "        Yes       939\n",
       "Male    Yes       930\n",
       "Name: count, dtype: int64"
      ]
     },
     "execution_count": 426,
     "metadata": {},
     "output_type": "execute_result"
    }
   ],
   "source": [
    "df[[\"gender\", \"Churn\"]].value_counts()"
   ]
  },
  {
   "cell_type": "code",
   "execution_count": 427,
   "id": "cbabc44a",
   "metadata": {},
   "outputs": [
    {
     "data": {
      "text/plain": [
       "gender  Churn\n",
       "Male    No       37.271049\n",
       "Female  No       36.191964\n",
       "        Yes      13.332387\n",
       "Male    Yes      13.204600\n",
       "Name: proportion, dtype: float64"
      ]
     },
     "execution_count": 427,
     "metadata": {},
     "output_type": "execute_result"
    }
   ],
   "source": [
    "df[[\"gender\", \"Churn\"]].value_counts(normalize=True)*100"
   ]
  },
  {
   "cell_type": "code",
   "execution_count": 428,
   "id": "12c94915",
   "metadata": {},
   "outputs": [
    {
     "data": {
      "text/plain": [
       "gender  Churn\n",
       "Female  No       73.079128\n",
       "        Yes      26.920872\n",
       "Male    No       73.839662\n",
       "        Yes      26.160338\n",
       "Name: proportion, dtype: float64"
      ]
     },
     "execution_count": 428,
     "metadata": {},
     "output_type": "execute_result"
    }
   ],
   "source": [
    "\n",
    "df.groupby('gender')['Churn'].value_counts(normalize=True) * 100\n"
   ]
  },
  {
   "cell_type": "code",
   "execution_count": 429,
   "id": "8c63846a",
   "metadata": {},
   "outputs": [
    {
     "data": {
      "text/html": [
       "<div>\n",
       "<style scoped>\n",
       "    .dataframe tbody tr th:only-of-type {\n",
       "        vertical-align: middle;\n",
       "    }\n",
       "\n",
       "    .dataframe tbody tr th {\n",
       "        vertical-align: top;\n",
       "    }\n",
       "\n",
       "    .dataframe thead th {\n",
       "        text-align: right;\n",
       "    }\n",
       "</style>\n",
       "<table border=\"1\" class=\"dataframe\">\n",
       "  <thead>\n",
       "    <tr style=\"text-align: right;\">\n",
       "      <th>Churn</th>\n",
       "      <th>No</th>\n",
       "      <th>Yes</th>\n",
       "    </tr>\n",
       "    <tr>\n",
       "      <th>gender</th>\n",
       "      <th></th>\n",
       "      <th></th>\n",
       "    </tr>\n",
       "  </thead>\n",
       "  <tbody>\n",
       "    <tr>\n",
       "      <th>Female</th>\n",
       "      <td>73.079128</td>\n",
       "      <td>26.920872</td>\n",
       "    </tr>\n",
       "    <tr>\n",
       "      <th>Male</th>\n",
       "      <td>73.839662</td>\n",
       "      <td>26.160338</td>\n",
       "    </tr>\n",
       "  </tbody>\n",
       "</table>\n",
       "</div>"
      ],
      "text/plain": [
       "Churn          No        Yes\n",
       "gender                      \n",
       "Female  73.079128  26.920872\n",
       "Male    73.839662  26.160338"
      ]
     },
     "execution_count": 429,
     "metadata": {},
     "output_type": "execute_result"
    }
   ],
   "source": [
    "\n",
    "pd.crosstab(df['gender'], df['Churn'], normalize='index') * 100"
   ]
  },
  {
   "cell_type": "code",
   "execution_count": 430,
   "id": "a9a92b1d",
   "metadata": {},
   "outputs": [],
   "source": [
    "\n",
    "# Calculate churn rate for Gender\n",
    "gender_churn = pd.crosstab(df['gender'], df['Churn'], normalize='index'). loc[:, \"Yes\"]* 100\n"
   ]
  },
  {
   "cell_type": "code",
   "execution_count": 431,
   "id": "d1814b8c",
   "metadata": {},
   "outputs": [
    {
     "data": {
      "image/png": "[encoded data removed]",
      "text/plain": [
       "<Figure size 1000x500 with 1 Axes>"
      ]
     },
     "metadata": {},
     "output_type": "display_data"
    },
    {
     "name": "stdout",
     "output_type": "stream",
     "text": [
      "\n",
      "📊 Churn Rate by Gender:\n",
      "  Female: 26.92%\n",
      "  Male: 26.16%\n"
     ]
    }
   ],
   "source": [
    "# Create the chart\n",
    "plt.figure(figsize=(10, 5))\n",
    "labels = ['Female', 'Male']\n",
    "colors = ['green', 'red']\n",
    "bars = plt.bar(labels, gender_churn.values, color=colors)\n",
    "\n",
    "# Add title and labels\n",
    "plt.title('Churn Rate by Gender', fontsize=14, fontweight='bold')\n",
    "plt.xlabel('Gender', fontsize=12)\n",
    "plt.ylabel('Churn Rate (%)', fontsize=12)\n",
    "plt.ylim(0, 50)\n",
    "\n",
    "# Add percentage labels on top of bars\n",
    "for bar, value in zip(bars, gender_churn.values):\n",
    "    plt.text(bar.get_x() + bar.get_width()/2, value + 1, \n",
    "             f'{value:.1f}%', ha='center', fontsize=12, fontweight='bold')\n",
    "\n",
    "plt.show()\n",
    "\n",
    "# Print summary\n",
    "print(\"\\n📊 Churn Rate by Gender:\")\n",
    "for gender, rate in gender_churn.items():\n",
    "    print(f\"  {gender}: {rate:.2f}%\")"
   ]
  },
  {
   "cell_type": "markdown",
   "id": "ef645a91",
   "metadata": {},
   "source": [
    "**REPORT**\n",
    "\n",
    "\"Gender analysis shows no meaningful difference in churn rates - both males and females churn at approximately 26.5%. Gender-based marketing won't solve our churn problem. We need to investigate other factors.\""
   ]
  },
  {
   "cell_type": "markdown",
   "id": "a326abab",
   "metadata": {},
   "source": [
    "## AGE CHURN ANALYSIS"
   ]
  },
  {
   "cell_type": "code",
   "execution_count": 432,
   "id": "4519d5a0",
   "metadata": {},
   "outputs": [
    {
     "data": {
      "text/plain": [
       "array([0, 1])"
      ]
     },
     "execution_count": 432,
     "metadata": {},
     "output_type": "execute_result"
    }
   ],
   "source": [
    "df['SeniorCitizen'].unique()"
   ]
  },
  {
   "cell_type": "markdown",
   "id": "3e27fbdc",
   "metadata": {},
   "source": [
    "**0 = NON SENIOR CITIZEN**\n",
    "\n",
    "**1 = SENIOR CITIZEN**\n"
   ]
  },
  {
   "cell_type": "code",
   "execution_count": 433,
   "id": "d38cec7c",
   "metadata": {},
   "outputs": [
    {
     "data": {
      "text/plain": [
       "SeniorCitizen  Churn\n",
       "0              No       76.393832\n",
       "               Yes      23.606168\n",
       "1              No       58.318739\n",
       "               Yes      41.681261\n",
       "Name: proportion, dtype: float64"
      ]
     },
     "execution_count": 433,
     "metadata": {},
     "output_type": "execute_result"
    }
   ],
   "source": [
    "\n",
    "df.groupby('SeniorCitizen')['Churn'].value_counts(normalize=True) * 100\n"
   ]
  },
  {
   "cell_type": "code",
   "execution_count": 434,
   "id": "4733ec33",
   "metadata": {},
   "outputs": [
    {
     "data": {
      "text/html": [
       "<div>\n",
       "<style scoped>\n",
       "    .dataframe tbody tr th:only-of-type {\n",
       "        vertical-align: middle;\n",
       "    }\n",
       "\n",
       "    .dataframe tbody tr th {\n",
       "        vertical-align: top;\n",
       "    }\n",
       "\n",
       "    .dataframe thead th {\n",
       "        text-align: right;\n",
       "    }\n",
       "</style>\n",
       "<table border=\"1\" class=\"dataframe\">\n",
       "  <thead>\n",
       "    <tr style=\"text-align: right;\">\n",
       "      <th>Churn</th>\n",
       "      <th>No</th>\n",
       "      <th>Yes</th>\n",
       "    </tr>\n",
       "    <tr>\n",
       "      <th>SeniorCitizen</th>\n",
       "      <th></th>\n",
       "      <th></th>\n",
       "    </tr>\n",
       "  </thead>\n",
       "  <tbody>\n",
       "    <tr>\n",
       "      <th>0</th>\n",
       "      <td>76.393832</td>\n",
       "      <td>23.606168</td>\n",
       "    </tr>\n",
       "    <tr>\n",
       "      <th>1</th>\n",
       "      <td>58.318739</td>\n",
       "      <td>41.681261</td>\n",
       "    </tr>\n",
       "  </tbody>\n",
       "</table>\n",
       "</div>"
      ],
      "text/plain": [
       "Churn                 No        Yes\n",
       "SeniorCitizen                      \n",
       "0              76.393832  23.606168\n",
       "1              58.318739  41.681261"
      ]
     },
     "execution_count": 434,
     "metadata": {},
     "output_type": "execute_result"
    }
   ],
   "source": [
    "pd.crosstab(df['SeniorCitizen'], df['Churn'], normalize='index') * 100"
   ]
  },
  {
   "cell_type": "code",
   "execution_count": 435,
   "id": "c36ad7c7",
   "metadata": {},
   "outputs": [],
   "source": [
    "senior_churn = pd.crosstab(df['SeniorCitizen'], df['Churn'], normalize='index').loc[:, \"Yes\"] * 100"
   ]
  },
  {
   "cell_type": "code",
   "execution_count": 436,
   "id": "b057228e",
   "metadata": {},
   "outputs": [
    {
     "data": {
      "image/png": "[encoded data removed]",
      "text/plain": [
       "<Figure size 800x500 with 1 Axes>"
      ]
     },
     "metadata": {},
     "output_type": "display_data"
    },
    {
     "name": "stdout",
     "output_type": "stream",
     "text": [
      "\n",
      "📊 Churn Rate by Age:\n",
      "  Seniors: 23.61%\n",
      "  Non-seniors: 41.68%\n",
      "\n",
      "⚠️ Seniors churn at 1.8x the rate of non-seniors!\n"
     ]
    }
   ],
   "source": [
    "plt.figure(figsize=(8, 5))\n",
    "labels = [ 'Senior Citizen', 'Non-Senior']\n",
    "colors = ['green', 'red']\n",
    "bars = plt.bar(labels, senior_churn.values, color=colors)\n",
    "plt.title('Churn Rate by Age Group', fontsize=14, fontweight='bold')\n",
    "plt.xlabel('Age Group', fontsize=12)\n",
    "plt.ylabel('Churn Rate (%)', fontsize=12)\n",
    "plt.ylim(0, 50)\n",
    "\n",
    "# Add percentage labels on top of bars\n",
    "for bar, value in zip(bars, senior_churn.values):\n",
    "    plt.text(bar.get_x() + bar.get_width()/2, value + 1, \n",
    "             f'{value:.1f}%', ha='center', fontsize=12, fontweight='bold')\n",
    "\n",
    "plt.show()\n",
    "\n",
    "# Print summary\n",
    "print(\"\\n📊 Churn Rate by Age:\")\n",
    "print(f\"  Seniors: {senior_churn[0]:.2f}%\")\n",
    "print(f\"  Non-seniors: {senior_churn[1]:.2f}%\")\n",
    "print(f\"\\n⚠️ Seniors churn at {senior_churn[1]/senior_churn[0]:.1f}x the rate of non-seniors!\")"
   ]
  },
  {
   "cell_type": "markdown",
   "id": "a49fffd6",
   "metadata": {},
   "source": [
    "**REPORT**\n",
    "\n",
    " identified a critical issue: Senior citizens churn at 41.68% - nearly DOUBLE the rate of younger customers (23.61%). This represents 476 at-risk customers and approximately $285,000 in annual lost revenue. We should immediately investigate WHY seniors are leaving and implement senior-friendly retention programs."
   ]
  },
  {
   "cell_type": "code",
   "execution_count": 437,
   "id": "80c259ca",
   "metadata": {},
   "outputs": [
    {
     "data": {
      "text/plain": [
       "Index(['customerID', 'gender', 'SeniorCitizen', 'Partner', 'Dependents',\n",
       "       'tenure', 'PhoneService', 'MultipleLines', 'InternetService',\n",
       "       'OnlineSecurity', 'OnlineBackup', 'DeviceProtection', 'TechSupport',\n",
       "       'StreamingTV', 'StreamingMovies', 'Contract', 'PaperlessBilling',\n",
       "       'PaymentMethod', 'MonthlyCharges', 'TotalCharges', 'Churn'],\n",
       "      dtype='object')"
      ]
     },
     "execution_count": 437,
     "metadata": {},
     "output_type": "execute_result"
    }
   ],
   "source": [
    "df.columns"
   ]
  },
  {
   "cell_type": "markdown",
   "id": "2ba6032f",
   "metadata": {},
   "source": [
    "## RELATIONSHIP STATUS VS CHURN RATE"
   ]
  },
  {
   "cell_type": "code",
   "execution_count": 438,
   "id": "fac9a242",
   "metadata": {},
   "outputs": [
    {
     "data": {
      "text/plain": [
       "array(['Yes', 'No'], dtype=object)"
      ]
     },
     "execution_count": 438,
     "metadata": {},
     "output_type": "execute_result"
    }
   ],
   "source": [
    "df[\"Partner\"].unique()"
   ]
  },
  {
   "cell_type": "markdown",
   "id": "64535cb0",
   "metadata": {},
   "source": [
    "**YES =IN A RELATIONSHIP**\n",
    "\n",
    "**NO = SINGLE**"
   ]
  },
  {
   "cell_type": "code",
   "execution_count": 439,
   "id": "78c25892",
   "metadata": {},
   "outputs": [
    {
     "data": {
      "text/plain": [
       "Partner\n",
       "No     3641\n",
       "Yes    3402\n",
       "Name: count, dtype: int64"
      ]
     },
     "execution_count": 439,
     "metadata": {},
     "output_type": "execute_result"
    }
   ],
   "source": [
    "df[\"Partner\"].value_counts()"
   ]
  },
  {
   "cell_type": "code",
   "execution_count": 440,
   "id": "1069fbc2",
   "metadata": {},
   "outputs": [
    {
     "data": {
      "text/plain": [
       "Partner  Churn\n",
       "No       No       67.042021\n",
       "         Yes      32.957979\n",
       "Yes      No       80.335097\n",
       "         Yes      19.664903\n",
       "Name: proportion, dtype: float64"
      ]
     },
     "execution_count": 440,
     "metadata": {},
     "output_type": "execute_result"
    }
   ],
   "source": [
    "df.groupby('Partner')['Churn'].value_counts(normalize=True) * 100\n"
   ]
  },
  {
   "cell_type": "code",
   "execution_count": 441,
   "id": "da62dae5",
   "metadata": {},
   "outputs": [
    {
     "data": {
      "text/html": [
       "<div>\n",
       "<style scoped>\n",
       "    .dataframe tbody tr th:only-of-type {\n",
       "        vertical-align: middle;\n",
       "    }\n",
       "\n",
       "    .dataframe tbody tr th {\n",
       "        vertical-align: top;\n",
       "    }\n",
       "\n",
       "    .dataframe thead th {\n",
       "        text-align: right;\n",
       "    }\n",
       "</style>\n",
       "<table border=\"1\" class=\"dataframe\">\n",
       "  <thead>\n",
       "    <tr style=\"text-align: right;\">\n",
       "      <th>Churn</th>\n",
       "      <th>No</th>\n",
       "      <th>Yes</th>\n",
       "    </tr>\n",
       "    <tr>\n",
       "      <th>Partner</th>\n",
       "      <th></th>\n",
       "      <th></th>\n",
       "    </tr>\n",
       "  </thead>\n",
       "  <tbody>\n",
       "    <tr>\n",
       "      <th>No</th>\n",
       "      <td>67.042021</td>\n",
       "      <td>32.957979</td>\n",
       "    </tr>\n",
       "    <tr>\n",
       "      <th>Yes</th>\n",
       "      <td>80.335097</td>\n",
       "      <td>19.664903</td>\n",
       "    </tr>\n",
       "  </tbody>\n",
       "</table>\n",
       "</div>"
      ],
      "text/plain": [
       "Churn           No        Yes\n",
       "Partner                      \n",
       "No       67.042021  32.957979\n",
       "Yes      80.335097  19.664903"
      ]
     },
     "execution_count": 441,
     "metadata": {},
     "output_type": "execute_result"
    }
   ],
   "source": [
    "pd.crosstab (df['Partner'], df['Churn'], normalize='index') * 100"
   ]
  },
  {
   "cell_type": "code",
   "execution_count": 442,
   "id": "273115a2",
   "metadata": {},
   "outputs": [],
   "source": [
    "partner_churn = pd.crosstab (df['Partner'], df['Churn'], normalize='index').loc[:, \"Yes\"]* 100"
   ]
  },
  {
   "cell_type": "code",
   "execution_count": 443,
   "id": "4b6cfdda",
   "metadata": {},
   "outputs": [
    {
     "data": {
      "image/png": "[encoded data removed]",
      "text/plain": [
       "<Figure size 800x500 with 1 Axes>"
      ]
     },
     "metadata": {},
     "output_type": "display_data"
    },
    {
     "name": "stdout",
     "output_type": "stream",
     "text": [
      " Churn Rate by Relationship Status:\n",
      "  No: 32.96%\n",
      "  Yes: 19.66%\n"
     ]
    }
   ],
   "source": [
    "plt.figure(figsize=(8, 5))\n",
    "labels = ['No', 'Yes']\n",
    "colors = ['Blue', 'Green']\n",
    "bars = plt.bar(labels, partner_churn.values, color=colors)\n",
    "plt.title('Churn Rate by Relationship Status', fontsize=14, fontweight='bold')\n",
    "plt.xlabel('Status', fontsize=12)\n",
    "plt.ylabel('Churn Rate (%)', fontsize=12)\n",
    "plt.ylim(0, 50)\n",
    "\n",
    "# Add percentage labels on top of bars\n",
    "for bar, value in zip(bars, partner_churn.values):\n",
    "    plt.text(bar.get_x() + bar.get_width()/2, value + 1, \n",
    "             f'{value:.1f}%', ha='center', fontsize=12, fontweight='bold')\n",
    "\n",
    "plt.show()\n",
    "\n",
    "# Print summary\n",
    "print(\" Churn Rate by Relationship Status:\")\n",
    "for status, rate in partner_churn.items():\n",
    "    print(f\"  {status}: {rate:.2f}%\")"
   ]
  },
  {
   "cell_type": "markdown",
   "id": "737301c1",
   "metadata": {},
   "source": [
    "**REPORT**\n",
    "\n",
    "Customers without a partner churned more (≈33% Yes) compared to those with a partner (≈20% Yes).\n",
    "\n",
    "\n"
   ]
  },
  {
   "cell_type": "markdown",
   "id": "5f71d8d8",
   "metadata": {},
   "source": [
    "## Service & Contract Analysis"
   ]
  },
  {
   "cell_type": "code",
   "execution_count": 444,
   "id": "f98c52df",
   "metadata": {},
   "outputs": [
    {
     "data": {
      "text/plain": [
       "Index(['customerID', 'gender', 'SeniorCitizen', 'Partner', 'Dependents',\n",
       "       'tenure', 'PhoneService', 'MultipleLines', 'InternetService',\n",
       "       'OnlineSecurity', 'OnlineBackup', 'DeviceProtection', 'TechSupport',\n",
       "       'StreamingTV', 'StreamingMovies', 'Contract', 'PaperlessBilling',\n",
       "       'PaymentMethod', 'MonthlyCharges', 'TotalCharges', 'Churn'],\n",
       "      dtype='object')"
      ]
     },
     "execution_count": 444,
     "metadata": {},
     "output_type": "execute_result"
    }
   ],
   "source": [
    "df.columns"
   ]
  },
  {
   "cell_type": "code",
   "execution_count": 445,
   "id": "d3a17c5b",
   "metadata": {},
   "outputs": [
    {
     "data": {
      "text/plain": [
       "7043"
      ]
     },
     "execution_count": 445,
     "metadata": {},
     "output_type": "execute_result"
    }
   ],
   "source": [
    "len(df[\"Contract\"])"
   ]
  },
  {
   "cell_type": "code",
   "execution_count": 446,
   "id": "2e0ede87",
   "metadata": {},
   "outputs": [
    {
     "data": {
      "text/plain": [
       "np.int64(7043)"
      ]
     },
     "execution_count": 446,
     "metadata": {},
     "output_type": "execute_result"
    }
   ],
   "source": [
    "df[\"Contract\"].count()"
   ]
  },
  {
   "cell_type": "code",
   "execution_count": 447,
   "id": "9b85427d",
   "metadata": {},
   "outputs": [
    {
     "data": {
      "text/plain": [
       "array(['Month-to-month', 'One year', 'Two year'], dtype=object)"
      ]
     },
     "execution_count": 447,
     "metadata": {},
     "output_type": "execute_result"
    }
   ],
   "source": [
    "df[\"Contract\"].unique()"
   ]
  },
  {
   "cell_type": "code",
   "execution_count": 448,
   "id": "254f3d28",
   "metadata": {},
   "outputs": [
    {
     "data": {
      "text/plain": [
       "Contract\n",
       "Month-to-month    3875\n",
       "Two year          1695\n",
       "One year          1473\n",
       "Name: count, dtype: int64"
      ]
     },
     "execution_count": 448,
     "metadata": {},
     "output_type": "execute_result"
    }
   ],
   "source": [
    "df[\"Contract\"].value_counts()"
   ]
  },
  {
   "cell_type": "code",
   "execution_count": 449,
   "id": "48b301e6",
   "metadata": {},
   "outputs": [
    {
     "data": {
      "text/plain": [
       "Contract        Churn\n",
       "Month-to-month  No       57.290323\n",
       "                Yes      42.709677\n",
       "One year        No       88.730482\n",
       "                Yes      11.269518\n",
       "Two year        No       97.168142\n",
       "                Yes       2.831858\n",
       "Name: proportion, dtype: float64"
      ]
     },
     "execution_count": 449,
     "metadata": {},
     "output_type": "execute_result"
    }
   ],
   "source": [
    "df.groupby(\"Contract\")[\"Churn\"].value_counts(normalize= True) * 100"
   ]
  },
  {
   "cell_type": "code",
   "execution_count": 450,
   "id": "1514d6c6",
   "metadata": {},
   "outputs": [
    {
     "data": {
      "text/html": [
       "<div>\n",
       "<style scoped>\n",
       "    .dataframe tbody tr th:only-of-type {\n",
       "        vertical-align: middle;\n",
       "    }\n",
       "\n",
       "    .dataframe tbody tr th {\n",
       "        vertical-align: top;\n",
       "    }\n",
       "\n",
       "    .dataframe thead th {\n",
       "        text-align: right;\n",
       "    }\n",
       "</style>\n",
       "<table border=\"1\" class=\"dataframe\">\n",
       "  <thead>\n",
       "    <tr style=\"text-align: right;\">\n",
       "      <th>Churn</th>\n",
       "      <th>No</th>\n",
       "      <th>Yes</th>\n",
       "    </tr>\n",
       "    <tr>\n",
       "      <th>Contract</th>\n",
       "      <th></th>\n",
       "      <th></th>\n",
       "    </tr>\n",
       "  </thead>\n",
       "  <tbody>\n",
       "    <tr>\n",
       "      <th>Month-to-month</th>\n",
       "      <td>57.290323</td>\n",
       "      <td>42.709677</td>\n",
       "    </tr>\n",
       "    <tr>\n",
       "      <th>One year</th>\n",
       "      <td>88.730482</td>\n",
       "      <td>11.269518</td>\n",
       "    </tr>\n",
       "    <tr>\n",
       "      <th>Two year</th>\n",
       "      <td>97.168142</td>\n",
       "      <td>2.831858</td>\n",
       "    </tr>\n",
       "  </tbody>\n",
       "</table>\n",
       "</div>"
      ],
      "text/plain": [
       "Churn                  No        Yes\n",
       "Contract                            \n",
       "Month-to-month  57.290323  42.709677\n",
       "One year        88.730482  11.269518\n",
       "Two year        97.168142   2.831858"
      ]
     },
     "execution_count": 450,
     "metadata": {},
     "output_type": "execute_result"
    }
   ],
   "source": [
    "pd.crosstab(df[\"Contract\"], df[\"Churn\"], normalize= \"index\") * 100"
   ]
  },
  {
   "cell_type": "markdown",
   "id": "75440950",
   "metadata": {},
   "source": [
    "### Chart 2: Churn by Contract Type\n",
    "Our #1 finding: Contract type is the biggest churn driver (39.88% difference)"
   ]
  },
  {
   "cell_type": "code",
   "execution_count": 451,
   "id": "6642abad",
   "metadata": {},
   "outputs": [
    {
     "data": {
      "text/plain": [
       "np.int64(1869)"
      ]
     },
     "execution_count": 451,
     "metadata": {},
     "output_type": "execute_result"
    }
   ],
   "source": [
    "df.groupby('Contract')['Churn'].value_counts().loc[:, 'Yes'].sum()"
   ]
  },
  {
   "cell_type": "code",
   "execution_count": 452,
   "id": "def16d40",
   "metadata": {},
   "outputs": [
    {
     "data": {
      "text/plain": [
       "Contract\n",
       "Month-to-month    42.709677\n",
       "One year          11.269518\n",
       "Two year           2.831858\n",
       "Name: proportion, dtype: float64"
      ]
     },
     "execution_count": 452,
     "metadata": {},
     "output_type": "execute_result"
    }
   ],
   "source": [
    "df.groupby('Contract')['Churn'].value_counts(normalize=True).loc[:, 'Yes']*100"
   ]
  },
  {
   "cell_type": "code",
   "execution_count": 453,
   "id": "24054d64",
   "metadata": {},
   "outputs": [
    {
     "data": {
      "image/png": "[encoded data removed]",
      "text/plain": [
       "<Figure size 1000x600 with 1 Axes>"
      ]
     },
     "metadata": {},
     "output_type": "display_data"
    },
    {
     "name": "stdout",
     "output_type": "stream",
     "text": [
      "Churn Rate by Contract Type:\n",
      "  Month-to-month: 42.71%\n",
      "  One year: 11.27%\n",
      "  Two year: 2.83%\n"
     ]
    }
   ],
   "source": [
    "import matplotlib.pyplot as plt\n",
    "\n",
    "# Get churn rate for each contract type\n",
    "contract_churn = df.groupby('Contract')['Churn'].apply(lambda x: (x == 'Yes').sum() / len(x) * 100)\n",
    "\n",
    "# Create the chart\n",
    "plt.figure(figsize=(10, 6))\n",
    "bars = plt.bar(contract_churn.index, contract_churn.values, color=['red', 'orange', 'green'])\n",
    "\n",
    "# Customize\n",
    "plt.title('Churn Rate by Contract Type - THE #1 FACTOR', fontsize=10, fontweight='bold')\n",
    "plt.xlabel('Contract Type', fontsize=10)\n",
    "plt.ylabel('Churn Rate (%)', fontsize=10)\n",
    "plt.ylim(0, 50) \n",
    "\n",
    "# Add percentage labels on bars\n",
    "for i, (bar, value) in enumerate(zip(bars, contract_churn.values)):\n",
    "    plt.text(bar.get_x() + bar.get_width()/2, value + 1, \n",
    "             f'{value:.1f}%', ha='center', fontsize=11, fontweight='bold')\n",
    "\n",
    "plt.show()\n",
    "\n",
    "# Print summary\n",
    "print(\"Churn Rate by Contract Type:\")\n",
    "for contract, rate in contract_churn.items():\n",
    "    print(f\"  {contract}: {rate:.2f}%\")"
   ]
  },
  {
   "cell_type": "markdown",
   "id": "d63d9a92",
   "metadata": {},
   "source": [
    "**REPORT**\n",
    "\n",
    "Customers on month-to-month contracts churned the most (≈43% Yes), while those on two-year contracts churned the least (≈3% Yes).\n",
    "\n",
    "Longer contract lengths strongly correlate with lower churn, with the majority of customers staying (No > 57–97%)."
   ]
  },
  {
   "cell_type": "markdown",
   "id": "0fbccc1f",
   "metadata": {},
   "source": [
    "## Payment Method Analysis"
   ]
  },
  {
   "cell_type": "code",
   "execution_count": 454,
   "id": "fd23b7b8",
   "metadata": {},
   "outputs": [
    {
     "data": {
      "text/plain": [
       "Index(['customerID', 'gender', 'SeniorCitizen', 'Partner', 'Dependents',\n",
       "       'tenure', 'PhoneService', 'MultipleLines', 'InternetService',\n",
       "       'OnlineSecurity', 'OnlineBackup', 'DeviceProtection', 'TechSupport',\n",
       "       'StreamingTV', 'StreamingMovies', 'Contract', 'PaperlessBilling',\n",
       "       'PaymentMethod', 'MonthlyCharges', 'TotalCharges', 'Churn'],\n",
       "      dtype='object')"
      ]
     },
     "execution_count": 454,
     "metadata": {},
     "output_type": "execute_result"
    }
   ],
   "source": [
    "df.columns"
   ]
  },
  {
   "cell_type": "code",
   "execution_count": 455,
   "id": "e503b717",
   "metadata": {},
   "outputs": [
    {
     "data": {
      "text/plain": [
       "7043"
      ]
     },
     "execution_count": 455,
     "metadata": {},
     "output_type": "execute_result"
    }
   ],
   "source": [
    "len(df['PaymentMethod'])"
   ]
  },
  {
   "cell_type": "code",
   "execution_count": 456,
   "id": "34712fce",
   "metadata": {},
   "outputs": [
    {
     "data": {
      "text/plain": [
       "array(['Electronic check', 'Mailed check', 'Bank transfer (automatic)',\n",
       "       'Credit card (automatic)'], dtype=object)"
      ]
     },
     "execution_count": 456,
     "metadata": {},
     "output_type": "execute_result"
    }
   ],
   "source": [
    "df['PaymentMethod'].unique()"
   ]
  },
  {
   "cell_type": "code",
   "execution_count": 457,
   "id": "598cefcb",
   "metadata": {},
   "outputs": [
    {
     "data": {
      "text/plain": [
       "PaymentMethod\n",
       "Electronic check             2365\n",
       "Mailed check                 1612\n",
       "Bank transfer (automatic)    1544\n",
       "Credit card (automatic)      1522\n",
       "Name: count, dtype: int64"
      ]
     },
     "execution_count": 457,
     "metadata": {},
     "output_type": "execute_result"
    }
   ],
   "source": [
    "df['PaymentMethod'].value_counts()"
   ]
  },
  {
   "cell_type": "code",
   "execution_count": 458,
   "id": "fe02f0aa",
   "metadata": {},
   "outputs": [
    {
     "data": {
      "text/plain": [
       "PaymentMethod              Churn\n",
       "Credit card (automatic)    No       84.756899\n",
       "Bank transfer (automatic)  No       83.290155\n",
       "Mailed check               No       80.893300\n",
       "Electronic check           No       54.714588\n",
       "                           Yes      45.285412\n",
       "Mailed check               Yes      19.106700\n",
       "Bank transfer (automatic)  Yes      16.709845\n",
       "Credit card (automatic)    Yes      15.243101\n",
       "Name: proportion, dtype: float64"
      ]
     },
     "execution_count": 458,
     "metadata": {},
     "output_type": "execute_result"
    }
   ],
   "source": [
    "df.groupby('PaymentMethod')['Churn'].value_counts(normalize=True).sort_values(ascending=False) * 100"
   ]
  },
  {
   "cell_type": "code",
   "execution_count": 459,
   "id": "a754057f",
   "metadata": {},
   "outputs": [
    {
     "data": {
      "text/plain": [
       "Churn\n",
       "No     83.290155\n",
       "Yes    16.709845\n",
       "Name: proportion, dtype: float64"
      ]
     },
     "execution_count": 459,
     "metadata": {},
     "output_type": "execute_result"
    }
   ],
   "source": [
    "df.groupby('PaymentMethod')['Churn'].value_counts(normalize=True).loc['Bank transfer (automatic)'] * 100"
   ]
  },
  {
   "cell_type": "code",
   "execution_count": 460,
   "id": "30f9a513",
   "metadata": {},
   "outputs": [
    {
     "data": {
      "text/plain": [
       "Churn\n",
       "No     54.714588\n",
       "Yes    45.285412\n",
       "Name: proportion, dtype: float64"
      ]
     },
     "execution_count": 460,
     "metadata": {},
     "output_type": "execute_result"
    }
   ],
   "source": [
    "df.groupby('PaymentMethod')['Churn'].value_counts(normalize=True).loc['Electronic check'] * 100"
   ]
  },
  {
   "cell_type": "code",
   "execution_count": 461,
   "id": "ff9999f8",
   "metadata": {},
   "outputs": [],
   "source": [
    "payment_churn = df.groupby('PaymentMethod')['Churn'].value_counts(normalize=True).sort_values(ascending=False).loc[:, 'Yes'] * 100"
   ]
  },
  {
   "cell_type": "code",
   "execution_count": 462,
   "id": "709325d1",
   "metadata": {},
   "outputs": [
    {
     "data": {
      "text/plain": [
       "PaymentMethod\n",
       "Electronic check             45.285412\n",
       "Mailed check                 19.106700\n",
       "Bank transfer (automatic)    16.709845\n",
       "Credit card (automatic)      15.243101\n",
       "Name: proportion, dtype: float64"
      ]
     },
     "execution_count": 462,
     "metadata": {},
     "output_type": "execute_result"
    }
   ],
   "source": [
    "payment_churn"
   ]
  },
  {
   "cell_type": "code",
   "execution_count": 463,
   "id": "91a038d5",
   "metadata": {},
   "outputs": [
    {
     "data": {
      "image/png": "[encoded data removed]",
      "text/plain": [
       "<Figure size 1000x600 with 1 Axes>"
      ]
     },
     "metadata": {},
     "output_type": "display_data"
    },
    {
     "name": "stdout",
     "output_type": "stream",
     "text": [
      "Churn Rate by Payment Method:\n",
      "  Electronic check: 45.29%\n",
      "  Mailed check: 19.11%\n",
      "  Bank transfer (automatic): 16.71%\n",
      "  Credit card (automatic): 15.24%\n",
      "Gap: 30.04% difference!\n"
     ]
    }
   ],
   "source": [
    "import matplotlib.pyplot as plt\n",
    "\n",
    "# Create the chart\n",
    "plt.figure(figsize=(10, 6))\n",
    "colors = ['red', 'orange', 'yellow', 'green']\n",
    "bars = plt.bar(payment_churn.index, payment_churn.values, color=colors)\n",
    "plt.title('Churn Rate by Payment Method - THE #2 FACTOR', fontsize=14, fontweight='bold')\n",
    "plt.xlabel('Payment Method', fontsize=12)\n",
    "plt.ylabel('Churn Rate (%)', fontsize=12)\n",
    "plt.xticks(rotation=45, ha='right')\n",
    "plt.ylim(0, 50)\n",
    "\n",
    "# Add percentage labels on top of bars\n",
    "for bar, value in zip(bars, payment_churn.values):\n",
    "    plt.text(bar.get_x() + bar.get_width()/2, value + 1, \n",
    "             f'{value:.1f}%', ha='center', fontsize=11, fontweight='bold')\n",
    "\n",
    "plt.tight_layout()\n",
    "plt.show()\n",
    "\n",
    "# Print summary\n",
    "print(\"Churn Rate by Payment Method:\")\n",
    "for method, rate in payment_churn.items():\n",
    "    print(f\"  {method}: {rate:.2f}%\")\n",
    "print(f\"Gap: {payment_churn.max() - payment_churn.min():.2f}% difference!\")"
   ]
  },
  {
   "cell_type": "code",
   "execution_count": 464,
   "id": "da3079c1",
   "metadata": {},
   "outputs": [],
   "source": [
    "# Find customers with BOTH high-risk factors\n",
    "high_risk = df[(df['PaymentMethod'] == 'Electronic check') & \n",
    "               (df['Contract'] == 'Month-to-month')]\n"
   ]
  },
  {
   "cell_type": "code",
   "execution_count": 465,
   "id": "90c5bb24",
   "metadata": {},
   "outputs": [
    {
     "data": {
      "text/html": [
       "<div>\n",
       "<style scoped>\n",
       "    .dataframe tbody tr th:only-of-type {\n",
       "        vertical-align: middle;\n",
       "    }\n",
       "\n",
       "    .dataframe tbody tr th {\n",
       "        vertical-align: top;\n",
       "    }\n",
       "\n",
       "    .dataframe thead th {\n",
       "        text-align: right;\n",
       "    }\n",
       "</style>\n",
       "<table border=\"1\" class=\"dataframe\">\n",
       "  <thead>\n",
       "    <tr style=\"text-align: right;\">\n",
       "      <th></th>\n",
       "      <th>customerID</th>\n",
       "      <th>gender</th>\n",
       "      <th>SeniorCitizen</th>\n",
       "      <th>Partner</th>\n",
       "      <th>Dependents</th>\n",
       "      <th>tenure</th>\n",
       "      <th>PhoneService</th>\n",
       "      <th>MultipleLines</th>\n",
       "      <th>InternetService</th>\n",
       "      <th>OnlineSecurity</th>\n",
       "      <th>...</th>\n",
       "      <th>DeviceProtection</th>\n",
       "      <th>TechSupport</th>\n",
       "      <th>StreamingTV</th>\n",
       "      <th>StreamingMovies</th>\n",
       "      <th>Contract</th>\n",
       "      <th>PaperlessBilling</th>\n",
       "      <th>PaymentMethod</th>\n",
       "      <th>MonthlyCharges</th>\n",
       "      <th>TotalCharges</th>\n",
       "      <th>Churn</th>\n",
       "    </tr>\n",
       "  </thead>\n",
       "  <tbody>\n",
       "    <tr>\n",
       "      <th>0</th>\n",
       "      <td>7590-VHVEG</td>\n",
       "      <td>Female</td>\n",
       "      <td>0</td>\n",
       "      <td>Yes</td>\n",
       "      <td>No</td>\n",
       "      <td>1</td>\n",
       "      <td>No</td>\n",
       "      <td>No phone service</td>\n",
       "      <td>DSL</td>\n",
       "      <td>No</td>\n",
       "      <td>...</td>\n",
       "      <td>No</td>\n",
       "      <td>No</td>\n",
       "      <td>No</td>\n",
       "      <td>No</td>\n",
       "      <td>Month-to-month</td>\n",
       "      <td>Yes</td>\n",
       "      <td>Electronic check</td>\n",
       "      <td>29.85</td>\n",
       "      <td>29.85</td>\n",
       "      <td>No</td>\n",
       "    </tr>\n",
       "    <tr>\n",
       "      <th>4</th>\n",
       "      <td>9237-HQITU</td>\n",
       "      <td>Female</td>\n",
       "      <td>0</td>\n",
       "      <td>No</td>\n",
       "      <td>No</td>\n",
       "      <td>2</td>\n",
       "      <td>Yes</td>\n",
       "      <td>No</td>\n",
       "      <td>Fiber optic</td>\n",
       "      <td>No</td>\n",
       "      <td>...</td>\n",
       "      <td>No</td>\n",
       "      <td>No</td>\n",
       "      <td>No</td>\n",
       "      <td>No</td>\n",
       "      <td>Month-to-month</td>\n",
       "      <td>Yes</td>\n",
       "      <td>Electronic check</td>\n",
       "      <td>70.70</td>\n",
       "      <td>151.65</td>\n",
       "      <td>Yes</td>\n",
       "    </tr>\n",
       "    <tr>\n",
       "      <th>5</th>\n",
       "      <td>9305-CDSKC</td>\n",
       "      <td>Female</td>\n",
       "      <td>0</td>\n",
       "      <td>No</td>\n",
       "      <td>No</td>\n",
       "      <td>8</td>\n",
       "      <td>Yes</td>\n",
       "      <td>Yes</td>\n",
       "      <td>Fiber optic</td>\n",
       "      <td>No</td>\n",
       "      <td>...</td>\n",
       "      <td>Yes</td>\n",
       "      <td>No</td>\n",
       "      <td>Yes</td>\n",
       "      <td>Yes</td>\n",
       "      <td>Month-to-month</td>\n",
       "      <td>Yes</td>\n",
       "      <td>Electronic check</td>\n",
       "      <td>99.65</td>\n",
       "      <td>820.5</td>\n",
       "      <td>Yes</td>\n",
       "    </tr>\n",
       "    <tr>\n",
       "      <th>8</th>\n",
       "      <td>7892-POOKP</td>\n",
       "      <td>Female</td>\n",
       "      <td>0</td>\n",
       "      <td>Yes</td>\n",
       "      <td>No</td>\n",
       "      <td>28</td>\n",
       "      <td>Yes</td>\n",
       "      <td>Yes</td>\n",
       "      <td>Fiber optic</td>\n",
       "      <td>No</td>\n",
       "      <td>...</td>\n",
       "      <td>Yes</td>\n",
       "      <td>Yes</td>\n",
       "      <td>Yes</td>\n",
       "      <td>Yes</td>\n",
       "      <td>Month-to-month</td>\n",
       "      <td>Yes</td>\n",
       "      <td>Electronic check</td>\n",
       "      <td>104.80</td>\n",
       "      <td>3046.05</td>\n",
       "      <td>Yes</td>\n",
       "    </tr>\n",
       "    <tr>\n",
       "      <th>14</th>\n",
       "      <td>5129-JLPIS</td>\n",
       "      <td>Male</td>\n",
       "      <td>0</td>\n",
       "      <td>No</td>\n",
       "      <td>No</td>\n",
       "      <td>25</td>\n",
       "      <td>Yes</td>\n",
       "      <td>No</td>\n",
       "      <td>Fiber optic</td>\n",
       "      <td>Yes</td>\n",
       "      <td>...</td>\n",
       "      <td>Yes</td>\n",
       "      <td>Yes</td>\n",
       "      <td>Yes</td>\n",
       "      <td>Yes</td>\n",
       "      <td>Month-to-month</td>\n",
       "      <td>Yes</td>\n",
       "      <td>Electronic check</td>\n",
       "      <td>105.50</td>\n",
       "      <td>2686.05</td>\n",
       "      <td>No</td>\n",
       "    </tr>\n",
       "    <tr>\n",
       "      <th>...</th>\n",
       "      <td>...</td>\n",
       "      <td>...</td>\n",
       "      <td>...</td>\n",
       "      <td>...</td>\n",
       "      <td>...</td>\n",
       "      <td>...</td>\n",
       "      <td>...</td>\n",
       "      <td>...</td>\n",
       "      <td>...</td>\n",
       "      <td>...</td>\n",
       "      <td>...</td>\n",
       "      <td>...</td>\n",
       "      <td>...</td>\n",
       "      <td>...</td>\n",
       "      <td>...</td>\n",
       "      <td>...</td>\n",
       "      <td>...</td>\n",
       "      <td>...</td>\n",
       "      <td>...</td>\n",
       "      <td>...</td>\n",
       "      <td>...</td>\n",
       "    </tr>\n",
       "    <tr>\n",
       "      <th>7020</th>\n",
       "      <td>9837-FWLCH</td>\n",
       "      <td>Male</td>\n",
       "      <td>0</td>\n",
       "      <td>Yes</td>\n",
       "      <td>Yes</td>\n",
       "      <td>12</td>\n",
       "      <td>Yes</td>\n",
       "      <td>No</td>\n",
       "      <td>No</td>\n",
       "      <td>No internet service</td>\n",
       "      <td>...</td>\n",
       "      <td>No internet service</td>\n",
       "      <td>No internet service</td>\n",
       "      <td>No internet service</td>\n",
       "      <td>No internet service</td>\n",
       "      <td>Month-to-month</td>\n",
       "      <td>Yes</td>\n",
       "      <td>Electronic check</td>\n",
       "      <td>19.20</td>\n",
       "      <td>239</td>\n",
       "      <td>No</td>\n",
       "    </tr>\n",
       "    <tr>\n",
       "      <th>7023</th>\n",
       "      <td>1035-IPQPU</td>\n",
       "      <td>Female</td>\n",
       "      <td>1</td>\n",
       "      <td>Yes</td>\n",
       "      <td>No</td>\n",
       "      <td>63</td>\n",
       "      <td>Yes</td>\n",
       "      <td>Yes</td>\n",
       "      <td>Fiber optic</td>\n",
       "      <td>No</td>\n",
       "      <td>...</td>\n",
       "      <td>Yes</td>\n",
       "      <td>No</td>\n",
       "      <td>Yes</td>\n",
       "      <td>Yes</td>\n",
       "      <td>Month-to-month</td>\n",
       "      <td>Yes</td>\n",
       "      <td>Electronic check</td>\n",
       "      <td>103.50</td>\n",
       "      <td>6479.4</td>\n",
       "      <td>No</td>\n",
       "    </tr>\n",
       "    <tr>\n",
       "      <th>7029</th>\n",
       "      <td>2235-DWLJU</td>\n",
       "      <td>Female</td>\n",
       "      <td>1</td>\n",
       "      <td>No</td>\n",
       "      <td>No</td>\n",
       "      <td>6</td>\n",
       "      <td>No</td>\n",
       "      <td>No phone service</td>\n",
       "      <td>DSL</td>\n",
       "      <td>No</td>\n",
       "      <td>...</td>\n",
       "      <td>No</td>\n",
       "      <td>No</td>\n",
       "      <td>Yes</td>\n",
       "      <td>Yes</td>\n",
       "      <td>Month-to-month</td>\n",
       "      <td>Yes</td>\n",
       "      <td>Electronic check</td>\n",
       "      <td>44.40</td>\n",
       "      <td>263.05</td>\n",
       "      <td>No</td>\n",
       "    </tr>\n",
       "    <tr>\n",
       "      <th>7032</th>\n",
       "      <td>6894-LFHLY</td>\n",
       "      <td>Male</td>\n",
       "      <td>1</td>\n",
       "      <td>No</td>\n",
       "      <td>No</td>\n",
       "      <td>1</td>\n",
       "      <td>Yes</td>\n",
       "      <td>Yes</td>\n",
       "      <td>Fiber optic</td>\n",
       "      <td>No</td>\n",
       "      <td>...</td>\n",
       "      <td>No</td>\n",
       "      <td>No</td>\n",
       "      <td>No</td>\n",
       "      <td>No</td>\n",
       "      <td>Month-to-month</td>\n",
       "      <td>Yes</td>\n",
       "      <td>Electronic check</td>\n",
       "      <td>75.75</td>\n",
       "      <td>75.75</td>\n",
       "      <td>Yes</td>\n",
       "    </tr>\n",
       "    <tr>\n",
       "      <th>7040</th>\n",
       "      <td>4801-JZAZL</td>\n",
       "      <td>Female</td>\n",
       "      <td>0</td>\n",
       "      <td>Yes</td>\n",
       "      <td>Yes</td>\n",
       "      <td>11</td>\n",
       "      <td>No</td>\n",
       "      <td>No phone service</td>\n",
       "      <td>DSL</td>\n",
       "      <td>Yes</td>\n",
       "      <td>...</td>\n",
       "      <td>No</td>\n",
       "      <td>No</td>\n",
       "      <td>No</td>\n",
       "      <td>No</td>\n",
       "      <td>Month-to-month</td>\n",
       "      <td>Yes</td>\n",
       "      <td>Electronic check</td>\n",
       "      <td>29.60</td>\n",
       "      <td>346.45</td>\n",
       "      <td>No</td>\n",
       "    </tr>\n",
       "  </tbody>\n",
       "</table>\n",
       "<p>1850 rows × 21 columns</p>\n",
       "</div>"
      ],
      "text/plain": [
       "      customerID  gender  SeniorCitizen Partner Dependents  tenure  \\\n",
       "0     7590-VHVEG  Female              0     Yes         No       1   \n",
       "4     9237-HQITU  Female              0      No         No       2   \n",
       "5     9305-CDSKC  Female              0      No         No       8   \n",
       "8     7892-POOKP  Female              0     Yes         No      28   \n",
       "14    5129-JLPIS    Male              0      No         No      25   \n",
       "...          ...     ...            ...     ...        ...     ...   \n",
       "7020  9837-FWLCH    Male              0     Yes        Yes      12   \n",
       "7023  1035-IPQPU  Female              1     Yes         No      63   \n",
       "7029  2235-DWLJU  Female              1      No         No       6   \n",
       "7032  6894-LFHLY    Male              1      No         No       1   \n",
       "7040  4801-JZAZL  Female              0     Yes        Yes      11   \n",
       "\n",
       "     PhoneService     MultipleLines InternetService       OnlineSecurity  ...  \\\n",
       "0              No  No phone service             DSL                   No  ...   \n",
       "4             Yes                No     Fiber optic                   No  ...   \n",
       "5             Yes               Yes     Fiber optic                   No  ...   \n",
       "8             Yes               Yes     Fiber optic                   No  ...   \n",
       "14            Yes                No     Fiber optic                  Yes  ...   \n",
       "...           ...               ...             ...                  ...  ...   \n",
       "7020          Yes                No              No  No internet service  ...   \n",
       "7023          Yes               Yes     Fiber optic                   No  ...   \n",
       "7029           No  No phone service             DSL                   No  ...   \n",
       "7032          Yes               Yes     Fiber optic                   No  ...   \n",
       "7040           No  No phone service             DSL                  Yes  ...   \n",
       "\n",
       "         DeviceProtection          TechSupport          StreamingTV  \\\n",
       "0                      No                   No                   No   \n",
       "4                      No                   No                   No   \n",
       "5                     Yes                   No                  Yes   \n",
       "8                     Yes                  Yes                  Yes   \n",
       "14                    Yes                  Yes                  Yes   \n",
       "...                   ...                  ...                  ...   \n",
       "7020  No internet service  No internet service  No internet service   \n",
       "7023                  Yes                   No                  Yes   \n",
       "7029                   No                   No                  Yes   \n",
       "7032                   No                   No                   No   \n",
       "7040                   No                   No                   No   \n",
       "\n",
       "          StreamingMovies        Contract PaperlessBilling     PaymentMethod  \\\n",
       "0                      No  Month-to-month              Yes  Electronic check   \n",
       "4                      No  Month-to-month              Yes  Electronic check   \n",
       "5                     Yes  Month-to-month              Yes  Electronic check   \n",
       "8                     Yes  Month-to-month              Yes  Electronic check   \n",
       "14                    Yes  Month-to-month              Yes  Electronic check   \n",
       "...                   ...             ...              ...               ...   \n",
       "7020  No internet service  Month-to-month              Yes  Electronic check   \n",
       "7023                  Yes  Month-to-month              Yes  Electronic check   \n",
       "7029                  Yes  Month-to-month              Yes  Electronic check   \n",
       "7032                   No  Month-to-month              Yes  Electronic check   \n",
       "7040                   No  Month-to-month              Yes  Electronic check   \n",
       "\n",
       "     MonthlyCharges  TotalCharges Churn  \n",
       "0             29.85         29.85    No  \n",
       "4             70.70        151.65   Yes  \n",
       "5             99.65         820.5   Yes  \n",
       "8            104.80       3046.05   Yes  \n",
       "14           105.50       2686.05    No  \n",
       "...             ...           ...   ...  \n",
       "7020          19.20           239    No  \n",
       "7023         103.50        6479.4    No  \n",
       "7029          44.40        263.05    No  \n",
       "7032          75.75         75.75   Yes  \n",
       "7040          29.60        346.45    No  \n",
       "\n",
       "[1850 rows x 21 columns]"
      ]
     },
     "execution_count": 465,
     "metadata": {},
     "output_type": "execute_result"
    }
   ],
   "source": [
    "high_risk "
   ]
  },
  {
   "cell_type": "code",
   "execution_count": 466,
   "id": "6592743a",
   "metadata": {},
   "outputs": [
    {
     "data": {
      "text/plain": [
       "1850"
      ]
     },
     "execution_count": 466,
     "metadata": {},
     "output_type": "execute_result"
    }
   ],
   "source": [
    "len(high_risk)"
   ]
  },
  {
   "cell_type": "code",
   "execution_count": 467,
   "id": "707e1db0",
   "metadata": {},
   "outputs": [
    {
     "data": {
      "text/plain": [
       "np.int64(994)"
      ]
     },
     "execution_count": 467,
     "metadata": {},
     "output_type": "execute_result"
    }
   ],
   "source": [
    "(high_risk['Churn'] == 'Yes').sum()"
   ]
  },
  {
   "cell_type": "code",
   "execution_count": 468,
   "id": "cc2708e9",
   "metadata": {},
   "outputs": [
    {
     "name": "stdout",
     "output_type": "stream",
     "text": [
      "E-check + Month-to-month churn rate: 53.73%\n"
     ]
    }
   ],
   "source": [
    "high_risk_churn = (high_risk['Churn'] == 'Yes').sum() / len(high_risk) * 100\n",
    "print(f\"E-check + Month-to-month churn rate: {high_risk_churn:.2f}%\")"
   ]
  },
  {
   "cell_type": "markdown",
   "id": "a7dd9c98",
   "metadata": {},
   "source": [
    "## Monthly Charges Analysis"
   ]
  },
  {
   "cell_type": "code",
   "execution_count": 469,
   "id": "4a45323a",
   "metadata": {},
   "outputs": [
    {
     "data": {
      "text/plain": [
       "Index(['customerID', 'gender', 'SeniorCitizen', 'Partner', 'Dependents',\n",
       "       'tenure', 'PhoneService', 'MultipleLines', 'InternetService',\n",
       "       'OnlineSecurity', 'OnlineBackup', 'DeviceProtection', 'TechSupport',\n",
       "       'StreamingTV', 'StreamingMovies', 'Contract', 'PaperlessBilling',\n",
       "       'PaymentMethod', 'MonthlyCharges', 'TotalCharges', 'Churn'],\n",
       "      dtype='object')"
      ]
     },
     "execution_count": 469,
     "metadata": {},
     "output_type": "execute_result"
    }
   ],
   "source": [
    "df.columns"
   ]
  },
  {
   "cell_type": "code",
   "execution_count": 470,
   "id": "a1140a62",
   "metadata": {},
   "outputs": [
    {
     "name": "stdout",
     "output_type": "stream",
     "text": [
      "<class 'pandas.core.series.Series'>\n",
      "RangeIndex: 7043 entries, 0 to 7042\n",
      "Series name: MonthlyCharges\n",
      "Non-Null Count  Dtype  \n",
      "--------------  -----  \n",
      "7043 non-null   float64\n",
      "dtypes: float64(1)\n",
      "memory usage: 55.2 KB\n"
     ]
    }
   ],
   "source": [
    "df[\"MonthlyCharges\"].info()"
   ]
  },
  {
   "cell_type": "code",
   "execution_count": 471,
   "id": "e1d46a9a",
   "metadata": {},
   "outputs": [
    {
     "data": {
      "text/plain": [
       "dtype('float64')"
      ]
     },
     "execution_count": 471,
     "metadata": {},
     "output_type": "execute_result"
    }
   ],
   "source": [
    "df[\"MonthlyCharges\"].dtype"
   ]
  },
  {
   "cell_type": "code",
   "execution_count": 472,
   "id": "b7a269ee",
   "metadata": {},
   "outputs": [
    {
     "data": {
      "text/plain": [
       "count    7043.000000\n",
       "mean       64.761692\n",
       "std        30.090047\n",
       "min        18.250000\n",
       "25%        35.500000\n",
       "50%        70.350000\n",
       "75%        89.850000\n",
       "max       118.750000\n",
       "Name: MonthlyCharges, dtype: float64"
      ]
     },
     "execution_count": 472,
     "metadata": {},
     "output_type": "execute_result"
    }
   ],
   "source": [
    "df['MonthlyCharges'].describe()"
   ]
  },
  {
   "cell_type": "code",
   "execution_count": 473,
   "id": "82b6308f",
   "metadata": {},
   "outputs": [
    {
     "name": "stdout",
     "output_type": "stream",
     "text": [
      "Min: $18.25\n",
      "Max: $118.75\n",
      "Average: $64.76\n"
     ]
    }
   ],
   "source": [
    "\n",
    "print(f\"Min: ${df['MonthlyCharges'].min()}\")\n",
    "print(f\"Max: ${df['MonthlyCharges'].max()}\")\n",
    "print(f\"Average: ${df['MonthlyCharges'].mean():.2f}\")"
   ]
  },
  {
   "cell_type": "code",
   "execution_count": 474,
   "id": "daea914a",
   "metadata": {},
   "outputs": [
    {
     "name": "stderr",
     "output_type": "stream",
     "text": [
      "C:\\Users\\Administrator\\AppData\\Local\\Temp\\ipykernel_13472\\1940326409.py:1: FutureWarning: The provided callable <built-in function min> is currently using SeriesGroupBy.min. In a future version of pandas, the provided callable will be used directly. To keep current behavior pass the string \"min\" instead.\n",
      "  df.groupby(\"Churn\")[\"MonthlyCharges\"].agg([min, \"mean\", \"median\", max])\n",
      "C:\\Users\\Administrator\\AppData\\Local\\Temp\\ipykernel_13472\\1940326409.py:1: FutureWarning: The provided callable <built-in function max> is currently using SeriesGroupBy.max. In a future version of pandas, the provided callable will be used directly. To keep current behavior pass the string \"max\" instead.\n",
      "  df.groupby(\"Churn\")[\"MonthlyCharges\"].agg([min, \"mean\", \"median\", max])\n"
     ]
    },
    {
     "data": {
      "text/html": [
       "<div>\n",
       "<style scoped>\n",
       "    .dataframe tbody tr th:only-of-type {\n",
       "        vertical-align: middle;\n",
       "    }\n",
       "\n",
       "    .dataframe tbody tr th {\n",
       "        vertical-align: top;\n",
       "    }\n",
       "\n",
       "    .dataframe thead th {\n",
       "        text-align: right;\n",
       "    }\n",
       "</style>\n",
       "<table border=\"1\" class=\"dataframe\">\n",
       "  <thead>\n",
       "    <tr style=\"text-align: right;\">\n",
       "      <th></th>\n",
       "      <th>min</th>\n",
       "      <th>mean</th>\n",
       "      <th>median</th>\n",
       "      <th>max</th>\n",
       "    </tr>\n",
       "    <tr>\n",
       "      <th>Churn</th>\n",
       "      <th></th>\n",
       "      <th></th>\n",
       "      <th></th>\n",
       "      <th></th>\n",
       "    </tr>\n",
       "  </thead>\n",
       "  <tbody>\n",
       "    <tr>\n",
       "      <th>No</th>\n",
       "      <td>18.25</td>\n",
       "      <td>61.265124</td>\n",
       "      <td>64.425</td>\n",
       "      <td>118.75</td>\n",
       "    </tr>\n",
       "    <tr>\n",
       "      <th>Yes</th>\n",
       "      <td>18.85</td>\n",
       "      <td>74.441332</td>\n",
       "      <td>79.650</td>\n",
       "      <td>118.35</td>\n",
       "    </tr>\n",
       "  </tbody>\n",
       "</table>\n",
       "</div>"
      ],
      "text/plain": [
       "         min       mean  median     max\n",
       "Churn                                  \n",
       "No     18.25  61.265124  64.425  118.75\n",
       "Yes    18.85  74.441332  79.650  118.35"
      ]
     },
     "execution_count": 474,
     "metadata": {},
     "output_type": "execute_result"
    }
   ],
   "source": [
    "df.groupby(\"Churn\")[\"MonthlyCharges\"].agg([min, \"mean\", \"median\", max])"
   ]
  },
  {
   "cell_type": "code",
   "execution_count": 475,
   "id": "60a845f7",
   "metadata": {},
   "outputs": [],
   "source": [
    "# Create price categories\n",
    "df['PriceRange'] = pd.cut(df['MonthlyCharges'], \n",
    "                           bins=[0, 30, 60, 90, 120],\n",
    "                           labels=['Low ($0-30)', 'Medium ($30-60)', \n",
    "                                   'High ($60-90)', 'Very High ($90+)'])\n"
   ]
  },
  {
   "cell_type": "code",
   "execution_count": 476,
   "id": "00e1fe32",
   "metadata": {},
   "outputs": [
    {
     "data": {
      "text/plain": [
       "['Low ($0-30)', 'Medium ($30-60)', 'High ($60-90)', 'Very High ($90+)']\n",
       "Categories (4, object): ['Low ($0-30)' < 'Medium ($30-60)' < 'High ($60-90)' < 'Very High ($90+)']"
      ]
     },
     "execution_count": 476,
     "metadata": {},
     "output_type": "execute_result"
    }
   ],
   "source": [
    "df['PriceRange'].unique()"
   ]
  },
  {
   "cell_type": "code",
   "execution_count": 477,
   "id": "ef79519e",
   "metadata": {},
   "outputs": [],
   "source": [
    "df['PriceRange'] = df['MonthlyCharges'].apply(\n",
    "    lambda x: 'Low ($0-30)' if x <= 30 else 'Medium ($30-60)' if x <= 60 else 'High ($60-90)' if x <= 90 else 'Very High ($90+)'\n",
    ")\n",
    "\n"
   ]
  },
  {
   "cell_type": "code",
   "execution_count": 478,
   "id": "e0fd8bce",
   "metadata": {},
   "outputs": [
    {
     "data": {
      "text/plain": [
       "array(['Low ($0-30)', 'Medium ($30-60)', 'High ($60-90)',\n",
       "       'Very High ($90+)'], dtype=object)"
      ]
     },
     "execution_count": 478,
     "metadata": {},
     "output_type": "execute_result"
    }
   ],
   "source": [
    "df['PriceRange'].unique()"
   ]
  },
  {
   "cell_type": "code",
   "execution_count": 479,
   "id": "ee852db9",
   "metadata": {},
   "outputs": [
    {
     "data": {
      "text/html": [
       "<div>\n",
       "<style scoped>\n",
       "    .dataframe tbody tr th:only-of-type {\n",
       "        vertical-align: middle;\n",
       "    }\n",
       "\n",
       "    .dataframe tbody tr th {\n",
       "        vertical-align: top;\n",
       "    }\n",
       "\n",
       "    .dataframe thead th {\n",
       "        text-align: right;\n",
       "    }\n",
       "</style>\n",
       "<table border=\"1\" class=\"dataframe\">\n",
       "  <thead>\n",
       "    <tr style=\"text-align: right;\">\n",
       "      <th></th>\n",
       "      <th>customerID</th>\n",
       "      <th>gender</th>\n",
       "      <th>SeniorCitizen</th>\n",
       "      <th>Partner</th>\n",
       "      <th>Dependents</th>\n",
       "      <th>tenure</th>\n",
       "      <th>PhoneService</th>\n",
       "      <th>MultipleLines</th>\n",
       "      <th>InternetService</th>\n",
       "      <th>OnlineSecurity</th>\n",
       "      <th>...</th>\n",
       "      <th>TechSupport</th>\n",
       "      <th>StreamingTV</th>\n",
       "      <th>StreamingMovies</th>\n",
       "      <th>Contract</th>\n",
       "      <th>PaperlessBilling</th>\n",
       "      <th>PaymentMethod</th>\n",
       "      <th>MonthlyCharges</th>\n",
       "      <th>TotalCharges</th>\n",
       "      <th>Churn</th>\n",
       "      <th>PriceRange</th>\n",
       "    </tr>\n",
       "  </thead>\n",
       "  <tbody>\n",
       "    <tr>\n",
       "      <th>0</th>\n",
       "      <td>7590-VHVEG</td>\n",
       "      <td>Female</td>\n",
       "      <td>0</td>\n",
       "      <td>Yes</td>\n",
       "      <td>No</td>\n",
       "      <td>1</td>\n",
       "      <td>No</td>\n",
       "      <td>No phone service</td>\n",
       "      <td>DSL</td>\n",
       "      <td>No</td>\n",
       "      <td>...</td>\n",
       "      <td>No</td>\n",
       "      <td>No</td>\n",
       "      <td>No</td>\n",
       "      <td>Month-to-month</td>\n",
       "      <td>Yes</td>\n",
       "      <td>Electronic check</td>\n",
       "      <td>29.85</td>\n",
       "      <td>29.85</td>\n",
       "      <td>No</td>\n",
       "      <td>Low ($0-30)</td>\n",
       "    </tr>\n",
       "    <tr>\n",
       "      <th>1</th>\n",
       "      <td>5575-GNVDE</td>\n",
       "      <td>Male</td>\n",
       "      <td>0</td>\n",
       "      <td>No</td>\n",
       "      <td>No</td>\n",
       "      <td>34</td>\n",
       "      <td>Yes</td>\n",
       "      <td>No</td>\n",
       "      <td>DSL</td>\n",
       "      <td>Yes</td>\n",
       "      <td>...</td>\n",
       "      <td>No</td>\n",
       "      <td>No</td>\n",
       "      <td>No</td>\n",
       "      <td>One year</td>\n",
       "      <td>No</td>\n",
       "      <td>Mailed check</td>\n",
       "      <td>56.95</td>\n",
       "      <td>1889.5</td>\n",
       "      <td>No</td>\n",
       "      <td>Medium ($30-60)</td>\n",
       "    </tr>\n",
       "    <tr>\n",
       "      <th>2</th>\n",
       "      <td>3668-QPYBK</td>\n",
       "      <td>Male</td>\n",
       "      <td>0</td>\n",
       "      <td>No</td>\n",
       "      <td>No</td>\n",
       "      <td>2</td>\n",
       "      <td>Yes</td>\n",
       "      <td>No</td>\n",
       "      <td>DSL</td>\n",
       "      <td>Yes</td>\n",
       "      <td>...</td>\n",
       "      <td>No</td>\n",
       "      <td>No</td>\n",
       "      <td>No</td>\n",
       "      <td>Month-to-month</td>\n",
       "      <td>Yes</td>\n",
       "      <td>Mailed check</td>\n",
       "      <td>53.85</td>\n",
       "      <td>108.15</td>\n",
       "      <td>Yes</td>\n",
       "      <td>Medium ($30-60)</td>\n",
       "    </tr>\n",
       "  </tbody>\n",
       "</table>\n",
       "<p>3 rows × 22 columns</p>\n",
       "</div>"
      ],
      "text/plain": [
       "   customerID  gender  SeniorCitizen Partner Dependents  tenure PhoneService  \\\n",
       "0  7590-VHVEG  Female              0     Yes         No       1           No   \n",
       "1  5575-GNVDE    Male              0      No         No      34          Yes   \n",
       "2  3668-QPYBK    Male              0      No         No       2          Yes   \n",
       "\n",
       "      MultipleLines InternetService OnlineSecurity  ... TechSupport  \\\n",
       "0  No phone service             DSL             No  ...          No   \n",
       "1                No             DSL            Yes  ...          No   \n",
       "2                No             DSL            Yes  ...          No   \n",
       "\n",
       "  StreamingTV StreamingMovies        Contract PaperlessBilling  \\\n",
       "0          No              No  Month-to-month              Yes   \n",
       "1          No              No        One year               No   \n",
       "2          No              No  Month-to-month              Yes   \n",
       "\n",
       "      PaymentMethod MonthlyCharges TotalCharges  Churn       PriceRange  \n",
       "0  Electronic check          29.85        29.85     No      Low ($0-30)  \n",
       "1      Mailed check          56.95       1889.5     No  Medium ($30-60)  \n",
       "2      Mailed check          53.85       108.15    Yes  Medium ($30-60)  \n",
       "\n",
       "[3 rows x 22 columns]"
      ]
     },
     "execution_count": 479,
     "metadata": {},
     "output_type": "execute_result"
    }
   ],
   "source": [
    "df.head(3)"
   ]
  },
  {
   "cell_type": "code",
   "execution_count": 480,
   "id": "60e4c114",
   "metadata": {},
   "outputs": [
    {
     "data": {
      "text/plain": [
       "PriceRange        Churn\n",
       "High ($60-90)     No       66.093881\n",
       "                  Yes      33.906119\n",
       "Low ($0-30)       No       90.199637\n",
       "                  Yes       9.800363\n",
       "Medium ($30-60)   No       74.071146\n",
       "                  Yes      25.928854\n",
       "Very High ($90+)  No       67.222542\n",
       "                  Yes      32.777458\n",
       "Name: proportion, dtype: float64"
      ]
     },
     "execution_count": 480,
     "metadata": {},
     "output_type": "execute_result"
    }
   ],
   "source": [
    "df.groupby('PriceRange')['Churn'].value_counts(normalize=True).sort_index() * 100"
   ]
  },
  {
   "cell_type": "code",
   "execution_count": 481,
   "id": "d5e5fc9d",
   "metadata": {},
   "outputs": [
    {
     "data": {
      "text/html": [
       "<div>\n",
       "<style scoped>\n",
       "    .dataframe tbody tr th:only-of-type {\n",
       "        vertical-align: middle;\n",
       "    }\n",
       "\n",
       "    .dataframe tbody tr th {\n",
       "        vertical-align: top;\n",
       "    }\n",
       "\n",
       "    .dataframe thead th {\n",
       "        text-align: right;\n",
       "    }\n",
       "</style>\n",
       "<table border=\"1\" class=\"dataframe\">\n",
       "  <thead>\n",
       "    <tr style=\"text-align: right;\">\n",
       "      <th>Churn</th>\n",
       "      <th>No</th>\n",
       "      <th>Yes</th>\n",
       "    </tr>\n",
       "    <tr>\n",
       "      <th>PriceRange</th>\n",
       "      <th></th>\n",
       "      <th></th>\n",
       "    </tr>\n",
       "  </thead>\n",
       "  <tbody>\n",
       "    <tr>\n",
       "      <th>High ($60-90)</th>\n",
       "      <td>66.093881</td>\n",
       "      <td>33.906119</td>\n",
       "    </tr>\n",
       "    <tr>\n",
       "      <th>Low ($0-30)</th>\n",
       "      <td>90.199637</td>\n",
       "      <td>9.800363</td>\n",
       "    </tr>\n",
       "    <tr>\n",
       "      <th>Medium ($30-60)</th>\n",
       "      <td>74.071146</td>\n",
       "      <td>25.928854</td>\n",
       "    </tr>\n",
       "    <tr>\n",
       "      <th>Very High ($90+)</th>\n",
       "      <td>67.222542</td>\n",
       "      <td>32.777458</td>\n",
       "    </tr>\n",
       "  </tbody>\n",
       "</table>\n",
       "</div>"
      ],
      "text/plain": [
       "Churn                    No        Yes\n",
       "PriceRange                            \n",
       "High ($60-90)     66.093881  33.906119\n",
       "Low ($0-30)       90.199637   9.800363\n",
       "Medium ($30-60)   74.071146  25.928854\n",
       "Very High ($90+)  67.222542  32.777458"
      ]
     },
     "execution_count": 481,
     "metadata": {},
     "output_type": "execute_result"
    }
   ],
   "source": [
    "pd.crosstab(df['PriceRange'], df['Churn'], normalize= \"index\")* 100"
   ]
  },
  {
   "cell_type": "code",
   "execution_count": 482,
   "id": "c1a68d3e",
   "metadata": {},
   "outputs": [
    {
     "data": {
      "text/plain": [
       "np.float64(61.26512369540008)"
      ]
     },
     "execution_count": 482,
     "metadata": {},
     "output_type": "execute_result"
    }
   ],
   "source": [
    "df.groupby(\"Churn\")[\"MonthlyCharges\"].mean().loc[\"No\"]"
   ]
  },
  {
   "cell_type": "code",
   "execution_count": 483,
   "id": "d822a35f",
   "metadata": {},
   "outputs": [
    {
     "data": {
      "text/plain": [
       "np.float64(74.44133226324237)"
      ]
     },
     "execution_count": 483,
     "metadata": {},
     "output_type": "execute_result"
    }
   ],
   "source": [
    "df.groupby(\"Churn\")[\"MonthlyCharges\"].mean().loc[\"Yes\"]"
   ]
  },
  {
   "cell_type": "code",
   "execution_count": 484,
   "id": "4562b96e",
   "metadata": {},
   "outputs": [
    {
     "name": "stderr",
     "output_type": "stream",
     "text": [
      "C:\\Users\\Administrator\\AppData\\Local\\Temp\\ipykernel_13472\\1203043704.py:1: FutureWarning: The provided callable <built-in function min> is currently using SeriesGroupBy.min. In a future version of pandas, the provided callable will be used directly. To keep current behavior pass the string \"min\" instead.\n",
      "  df.groupby(\"Churn\")[\"MonthlyCharges\"].agg([min,max])\n",
      "C:\\Users\\Administrator\\AppData\\Local\\Temp\\ipykernel_13472\\1203043704.py:1: FutureWarning: The provided callable <built-in function max> is currently using SeriesGroupBy.max. In a future version of pandas, the provided callable will be used directly. To keep current behavior pass the string \"max\" instead.\n",
      "  df.groupby(\"Churn\")[\"MonthlyCharges\"].agg([min,max])\n"
     ]
    },
    {
     "data": {
      "text/html": [
       "<div>\n",
       "<style scoped>\n",
       "    .dataframe tbody tr th:only-of-type {\n",
       "        vertical-align: middle;\n",
       "    }\n",
       "\n",
       "    .dataframe tbody tr th {\n",
       "        vertical-align: top;\n",
       "    }\n",
       "\n",
       "    .dataframe thead th {\n",
       "        text-align: right;\n",
       "    }\n",
       "</style>\n",
       "<table border=\"1\" class=\"dataframe\">\n",
       "  <thead>\n",
       "    <tr style=\"text-align: right;\">\n",
       "      <th></th>\n",
       "      <th>min</th>\n",
       "      <th>max</th>\n",
       "    </tr>\n",
       "    <tr>\n",
       "      <th>Churn</th>\n",
       "      <th></th>\n",
       "      <th></th>\n",
       "    </tr>\n",
       "  </thead>\n",
       "  <tbody>\n",
       "    <tr>\n",
       "      <th>No</th>\n",
       "      <td>18.25</td>\n",
       "      <td>118.75</td>\n",
       "    </tr>\n",
       "    <tr>\n",
       "      <th>Yes</th>\n",
       "      <td>18.85</td>\n",
       "      <td>118.35</td>\n",
       "    </tr>\n",
       "  </tbody>\n",
       "</table>\n",
       "</div>"
      ],
      "text/plain": [
       "         min     max\n",
       "Churn               \n",
       "No     18.25  118.75\n",
       "Yes    18.85  118.35"
      ]
     },
     "execution_count": 484,
     "metadata": {},
     "output_type": "execute_result"
    }
   ],
   "source": [
    "df.groupby(\"Churn\")[\"MonthlyCharges\"].agg([min,max])"
   ]
  },
  {
   "cell_type": "code",
   "execution_count": 485,
   "id": "287f5cb3",
   "metadata": {},
   "outputs": [],
   "source": [
    "df[\"price_range\"] = df[\"MonthlyCharges\"].apply(\n",
    "    lambda x: \"Low\"  if x <= 30 else \"Medium\" if x <= 60 else \"High\" if x <= 90 else \"Very-High\" )"
   ]
  },
  {
   "cell_type": "code",
   "execution_count": 486,
   "id": "cec9fc80",
   "metadata": {},
   "outputs": [
    {
     "data": {
      "text/plain": [
       "array(['Low', 'Medium', 'High', 'Very-High'], dtype=object)"
      ]
     },
     "execution_count": 486,
     "metadata": {},
     "output_type": "execute_result"
    }
   ],
   "source": [
    "df[\"price_range\"].unique()"
   ]
  },
  {
   "cell_type": "code",
   "execution_count": 487,
   "id": "968edf9f",
   "metadata": {},
   "outputs": [
    {
     "data": {
      "text/plain": [
       "price_range\n",
       "High         2386\n",
       "Very-High    1739\n",
       "Low          1653\n",
       "Medium       1265\n",
       "Name: count, dtype: int64"
      ]
     },
     "execution_count": 487,
     "metadata": {},
     "output_type": "execute_result"
    }
   ],
   "source": [
    "df[\"price_range\"].value_counts()"
   ]
  },
  {
   "cell_type": "code",
   "execution_count": 488,
   "id": "2fcbf0ab",
   "metadata": {},
   "outputs": [
    {
     "data": {
      "text/plain": [
       "price_range  Churn\n",
       "High         No       1577\n",
       "             Yes       809\n",
       "Low          No       1491\n",
       "             Yes       162\n",
       "Medium       No        937\n",
       "             Yes       328\n",
       "Very-High    No       1169\n",
       "             Yes       570\n",
       "Name: count, dtype: int64"
      ]
     },
     "execution_count": 488,
     "metadata": {},
     "output_type": "execute_result"
    }
   ],
   "source": [
    "df.groupby(\"price_range\")[\"Churn\"].value_counts()"
   ]
  },
  {
   "cell_type": "code",
   "execution_count": 489,
   "id": "033d1895",
   "metadata": {},
   "outputs": [
    {
     "data": {
      "text/html": [
       "<div>\n",
       "<style scoped>\n",
       "    .dataframe tbody tr th:only-of-type {\n",
       "        vertical-align: middle;\n",
       "    }\n",
       "\n",
       "    .dataframe tbody tr th {\n",
       "        vertical-align: top;\n",
       "    }\n",
       "\n",
       "    .dataframe thead th {\n",
       "        text-align: right;\n",
       "    }\n",
       "</style>\n",
       "<table border=\"1\" class=\"dataframe\">\n",
       "  <thead>\n",
       "    <tr style=\"text-align: right;\">\n",
       "      <th>Churn</th>\n",
       "      <th>No</th>\n",
       "      <th>Yes</th>\n",
       "    </tr>\n",
       "    <tr>\n",
       "      <th>price_range</th>\n",
       "      <th></th>\n",
       "      <th></th>\n",
       "    </tr>\n",
       "  </thead>\n",
       "  <tbody>\n",
       "    <tr>\n",
       "      <th>High</th>\n",
       "      <td>1577</td>\n",
       "      <td>809</td>\n",
       "    </tr>\n",
       "    <tr>\n",
       "      <th>Low</th>\n",
       "      <td>1491</td>\n",
       "      <td>162</td>\n",
       "    </tr>\n",
       "    <tr>\n",
       "      <th>Medium</th>\n",
       "      <td>937</td>\n",
       "      <td>328</td>\n",
       "    </tr>\n",
       "    <tr>\n",
       "      <th>Very-High</th>\n",
       "      <td>1169</td>\n",
       "      <td>570</td>\n",
       "    </tr>\n",
       "  </tbody>\n",
       "</table>\n",
       "</div>"
      ],
      "text/plain": [
       "Churn          No  Yes\n",
       "price_range           \n",
       "High         1577  809\n",
       "Low          1491  162\n",
       "Medium        937  328\n",
       "Very-High    1169  570"
      ]
     },
     "execution_count": 489,
     "metadata": {},
     "output_type": "execute_result"
    }
   ],
   "source": [
    "pd.crosstab(df[\"price_range\"], df[\"Churn\"])"
   ]
  },
  {
   "cell_type": "code",
   "execution_count": 490,
   "id": "e9770fe6",
   "metadata": {},
   "outputs": [
    {
     "data": {
      "text/plain": [
       "price_range\n",
       "High         809\n",
       "Low          162\n",
       "Medium       328\n",
       "Very-High    570\n",
       "Name: Yes, dtype: int64"
      ]
     },
     "execution_count": 490,
     "metadata": {},
     "output_type": "execute_result"
    }
   ],
   "source": [
    "pd.crosstab(df[\"price_range\"], df[\"Churn\"]).loc[:,'Yes']"
   ]
  },
  {
   "cell_type": "code",
   "execution_count": 491,
   "id": "044733f8",
   "metadata": {},
   "outputs": [
    {
     "data": {
      "text/html": [
       "<div>\n",
       "<style scoped>\n",
       "    .dataframe tbody tr th:only-of-type {\n",
       "        vertical-align: middle;\n",
       "    }\n",
       "\n",
       "    .dataframe tbody tr th {\n",
       "        vertical-align: top;\n",
       "    }\n",
       "\n",
       "    .dataframe thead th {\n",
       "        text-align: right;\n",
       "    }\n",
       "</style>\n",
       "<table border=\"1\" class=\"dataframe\">\n",
       "  <thead>\n",
       "    <tr style=\"text-align: right;\">\n",
       "      <th>Churn</th>\n",
       "      <th>No</th>\n",
       "      <th>Yes</th>\n",
       "    </tr>\n",
       "    <tr>\n",
       "      <th>price_range</th>\n",
       "      <th></th>\n",
       "      <th></th>\n",
       "    </tr>\n",
       "  </thead>\n",
       "  <tbody>\n",
       "    <tr>\n",
       "      <th>High</th>\n",
       "      <td>66.093881</td>\n",
       "      <td>33.906119</td>\n",
       "    </tr>\n",
       "    <tr>\n",
       "      <th>Low</th>\n",
       "      <td>90.199637</td>\n",
       "      <td>9.800363</td>\n",
       "    </tr>\n",
       "    <tr>\n",
       "      <th>Medium</th>\n",
       "      <td>74.071146</td>\n",
       "      <td>25.928854</td>\n",
       "    </tr>\n",
       "    <tr>\n",
       "      <th>Very-High</th>\n",
       "      <td>67.222542</td>\n",
       "      <td>32.777458</td>\n",
       "    </tr>\n",
       "  </tbody>\n",
       "</table>\n",
       "</div>"
      ],
      "text/plain": [
       "Churn               No        Yes\n",
       "price_range                      \n",
       "High         66.093881  33.906119\n",
       "Low          90.199637   9.800363\n",
       "Medium       74.071146  25.928854\n",
       "Very-High    67.222542  32.777458"
      ]
     },
     "execution_count": 491,
     "metadata": {},
     "output_type": "execute_result"
    }
   ],
   "source": [
    "pd.crosstab(df[\"price_range\"], df[\"Churn\"], normalize=\"index\")* 100"
   ]
  },
  {
   "cell_type": "code",
   "execution_count": 492,
   "id": "063204b7",
   "metadata": {},
   "outputs": [
    {
     "data": {
      "text/plain": [
       "price_range\n",
       "High         33.906119\n",
       "Low           9.800363\n",
       "Medium       25.928854\n",
       "Very-High    32.777458\n",
       "Name: Yes, dtype: float64"
      ]
     },
     "execution_count": 492,
     "metadata": {},
     "output_type": "execute_result"
    }
   ],
   "source": [
    "pd.crosstab(df[\"price_range\"], df[\"Churn\"], normalize=\"index\").loc[:,\"Yes\"] * 100"
   ]
  },
  {
   "cell_type": "code",
   "execution_count": 493,
   "id": "8d163ff6",
   "metadata": {},
   "outputs": [
    {
     "data": {
      "text/html": [
       "<div>\n",
       "<style scoped>\n",
       "    .dataframe tbody tr th:only-of-type {\n",
       "        vertical-align: middle;\n",
       "    }\n",
       "\n",
       "    .dataframe tbody tr th {\n",
       "        vertical-align: top;\n",
       "    }\n",
       "\n",
       "    .dataframe thead th {\n",
       "        text-align: right;\n",
       "    }\n",
       "</style>\n",
       "<table border=\"1\" class=\"dataframe\">\n",
       "  <thead>\n",
       "    <tr style=\"text-align: right;\">\n",
       "      <th>Churn</th>\n",
       "      <th>No</th>\n",
       "      <th>Yes</th>\n",
       "      <th>Total</th>\n",
       "    </tr>\n",
       "    <tr>\n",
       "      <th>PriceRange</th>\n",
       "      <th></th>\n",
       "      <th></th>\n",
       "      <th></th>\n",
       "    </tr>\n",
       "  </thead>\n",
       "  <tbody>\n",
       "    <tr>\n",
       "      <th>High ($60-90)</th>\n",
       "      <td>1577</td>\n",
       "      <td>809</td>\n",
       "      <td>2386</td>\n",
       "    </tr>\n",
       "    <tr>\n",
       "      <th>Low ($0-30)</th>\n",
       "      <td>1491</td>\n",
       "      <td>162</td>\n",
       "      <td>1653</td>\n",
       "    </tr>\n",
       "    <tr>\n",
       "      <th>Medium ($30-60)</th>\n",
       "      <td>937</td>\n",
       "      <td>328</td>\n",
       "      <td>1265</td>\n",
       "    </tr>\n",
       "    <tr>\n",
       "      <th>Very High ($90+)</th>\n",
       "      <td>1169</td>\n",
       "      <td>570</td>\n",
       "      <td>1739</td>\n",
       "    </tr>\n",
       "  </tbody>\n",
       "</table>\n",
       "</div>"
      ],
      "text/plain": [
       "Churn               No  Yes  Total\n",
       "PriceRange                        \n",
       "High ($60-90)     1577  809   2386\n",
       "Low ($0-30)       1491  162   1653\n",
       "Medium ($30-60)    937  328   1265\n",
       "Very High ($90+)  1169  570   1739"
      ]
     },
     "execution_count": 493,
     "metadata": {},
     "output_type": "execute_result"
    }
   ],
   "source": [
    "churn_counts = pd.crosstab(df['PriceRange'], df['Churn'])\n",
    "price_counts = df['PriceRange'].value_counts().sort_index()\n",
    "summary_table = churn_counts.copy()       # Start with Yes/No counts\n",
    "summary_table['Total'] = price_counts     # Add total column\n",
    "summary_table\n"
   ]
  },
  {
   "cell_type": "code",
   "execution_count": 494,
   "id": "c1732089",
   "metadata": {},
   "outputs": [
    {
     "data": {
      "text/plain": [
       "24.105999999999998"
      ]
     },
     "execution_count": 494,
     "metadata": {},
     "output_type": "execute_result"
    }
   ],
   "source": [
    "33.906 - 9.800"
   ]
  },
  {
   "cell_type": "markdown",
   "id": "5dda6c53",
   "metadata": {},
   "source": [
    "## Price + Contract Interaction Analysis"
   ]
  },
  {
   "cell_type": "code",
   "execution_count": 495,
   "id": "aa0b17b1",
   "metadata": {},
   "outputs": [
    {
     "data": {
      "text/plain": [
       "Contract\n",
       "Month-to-month    66.398490\n",
       "One year          65.048608\n",
       "Two year          60.770413\n",
       "Name: MonthlyCharges, dtype: float64"
      ]
     },
     "execution_count": 495,
     "metadata": {},
     "output_type": "execute_result"
    }
   ],
   "source": [
    "df.groupby('Contract')['MonthlyCharges'].mean()"
   ]
  },
  {
   "cell_type": "code",
   "execution_count": 496,
   "id": "49b72b24",
   "metadata": {},
   "outputs": [
    {
     "name": "stdout",
     "output_type": "stream",
     "text": [
      "Month-to-month customers:\n",
      "Stayed: $61.46\n",
      "Churned: $73.02\n"
     ]
    }
   ],
   "source": [
    "mtm = df[df['Contract'] == 'Month-to-month']\n",
    "print(\"Month-to-month customers:\")\n",
    "print(f\"Stayed: ${mtm[mtm['Churn']=='No']['MonthlyCharges'].mean():.2f}\")\n",
    "print(f\"Churned: ${mtm[mtm['Churn']=='Yes']['MonthlyCharges'].mean():.2f}\")"
   ]
  },
  {
   "cell_type": "code",
   "execution_count": 497,
   "id": "cc8c7d5c",
   "metadata": {},
   "outputs": [
    {
     "data": {
      "text/plain": [
       "Churn\n",
       "No     61.462635\n",
       "Yes    73.019396\n",
       "Name: MonthlyCharges, dtype: float64"
      ]
     },
     "execution_count": 497,
     "metadata": {},
     "output_type": "execute_result"
    }
   ],
   "source": [
    "mtm.groupby(\"Churn\")[\"MonthlyCharges\"].mean()\n"
   ]
  },
  {
   "cell_type": "code",
   "execution_count": 498,
   "id": "73316da0",
   "metadata": {},
   "outputs": [
    {
     "data": {
      "text/plain": [
       "np.float64(73.01939577039275)"
      ]
     },
     "execution_count": 498,
     "metadata": {},
     "output_type": "execute_result"
    }
   ],
   "source": [
    "df.groupby([\"Contract\", \"Churn\"])[\"MonthlyCharges\"].mean().loc[\"Month-to-month\", \"Yes\"]\n"
   ]
  },
  {
   "cell_type": "code",
   "execution_count": 499,
   "id": "5ad7614a",
   "metadata": {},
   "outputs": [
    {
     "data": {
      "text/plain": [
       "np.float64(85.05090361445784)"
      ]
     },
     "execution_count": 499,
     "metadata": {},
     "output_type": "execute_result"
    }
   ],
   "source": [
    "df.groupby([\"Contract\", \"Churn\"])[\"MonthlyCharges\"].mean().loc[\"One year\",\"Yes\"]"
   ]
  },
  {
   "cell_type": "code",
   "execution_count": 500,
   "id": "c046fdf0",
   "metadata": {},
   "outputs": [
    {
     "data": {
      "text/plain": [
       "np.float64(86.77708333333334)"
      ]
     },
     "execution_count": 500,
     "metadata": {},
     "output_type": "execute_result"
    }
   ],
   "source": [
    "df.groupby([\"Contract\", \"Churn\"])[\"MonthlyCharges\"].mean().loc[\"Two year\", \"Yes\"]"
   ]
  },
  {
   "cell_type": "code",
   "execution_count": 501,
   "id": "790c0406",
   "metadata": {},
   "outputs": [
    {
     "data": {
      "text/html": [
       "<div>\n",
       "<style scoped>\n",
       "    .dataframe tbody tr th:only-of-type {\n",
       "        vertical-align: middle;\n",
       "    }\n",
       "\n",
       "    .dataframe tbody tr th {\n",
       "        vertical-align: top;\n",
       "    }\n",
       "\n",
       "    .dataframe thead th {\n",
       "        text-align: right;\n",
       "    }\n",
       "</style>\n",
       "<table border=\"1\" class=\"dataframe\">\n",
       "  <thead>\n",
       "    <tr style=\"text-align: right;\">\n",
       "      <th></th>\n",
       "      <th>Contract</th>\n",
       "      <th>Churn</th>\n",
       "      <th>Mean</th>\n",
       "    </tr>\n",
       "  </thead>\n",
       "  <tbody>\n",
       "    <tr>\n",
       "      <th>5</th>\n",
       "      <td>Two year</td>\n",
       "      <td>Yes</td>\n",
       "      <td>86.777083</td>\n",
       "    </tr>\n",
       "    <tr>\n",
       "      <th>3</th>\n",
       "      <td>One year</td>\n",
       "      <td>Yes</td>\n",
       "      <td>85.050904</td>\n",
       "    </tr>\n",
       "    <tr>\n",
       "      <th>1</th>\n",
       "      <td>Month-to-month</td>\n",
       "      <td>Yes</td>\n",
       "      <td>73.019396</td>\n",
       "    </tr>\n",
       "    <tr>\n",
       "      <th>2</th>\n",
       "      <td>One year</td>\n",
       "      <td>No</td>\n",
       "      <td>62.508148</td>\n",
       "    </tr>\n",
       "    <tr>\n",
       "      <th>0</th>\n",
       "      <td>Month-to-month</td>\n",
       "      <td>No</td>\n",
       "      <td>61.462635</td>\n",
       "    </tr>\n",
       "    <tr>\n",
       "      <th>4</th>\n",
       "      <td>Two year</td>\n",
       "      <td>No</td>\n",
       "      <td>60.012477</td>\n",
       "    </tr>\n",
       "  </tbody>\n",
       "</table>\n",
       "</div>"
      ],
      "text/plain": [
       "         Contract Churn       Mean\n",
       "5        Two year   Yes  86.777083\n",
       "3        One year   Yes  85.050904\n",
       "1  Month-to-month   Yes  73.019396\n",
       "2        One year    No  62.508148\n",
       "0  Month-to-month    No  61.462635\n",
       "4        Two year    No  60.012477"
      ]
     },
     "execution_count": 501,
     "metadata": {},
     "output_type": "execute_result"
    }
   ],
   "source": [
    "df.groupby([\"Contract\", \"Churn\"])[\"MonthlyCharges\"].mean().reset_index(name=\"Mean\").sort_values(by=\"Mean\", ascending=False)"
   ]
  },
  {
   "cell_type": "code",
   "execution_count": 502,
   "id": "bbdfcf00",
   "metadata": {},
   "outputs": [
    {
     "data": {
      "text/html": [
       "<div>\n",
       "<style scoped>\n",
       "    .dataframe tbody tr th:only-of-type {\n",
       "        vertical-align: middle;\n",
       "    }\n",
       "\n",
       "    .dataframe tbody tr th {\n",
       "        vertical-align: top;\n",
       "    }\n",
       "\n",
       "    .dataframe thead th {\n",
       "        text-align: right;\n",
       "    }\n",
       "</style>\n",
       "<table border=\"1\" class=\"dataframe\">\n",
       "  <thead>\n",
       "    <tr style=\"text-align: right;\">\n",
       "      <th></th>\n",
       "      <th>PaymentMethod</th>\n",
       "      <th>Churn</th>\n",
       "      <th>mean</th>\n",
       "    </tr>\n",
       "  </thead>\n",
       "  <tbody>\n",
       "    <tr>\n",
       "      <th>5</th>\n",
       "      <td>Electronic check</td>\n",
       "      <td>Yes</td>\n",
       "      <td>78.700980</td>\n",
       "    </tr>\n",
       "    <tr>\n",
       "      <th>1</th>\n",
       "      <td>Bank transfer (automatic)</td>\n",
       "      <td>Yes</td>\n",
       "      <td>77.875581</td>\n",
       "    </tr>\n",
       "    <tr>\n",
       "      <th>3</th>\n",
       "      <td>Credit card (automatic)</td>\n",
       "      <td>Yes</td>\n",
       "      <td>77.356034</td>\n",
       "    </tr>\n",
       "    <tr>\n",
       "      <th>4</th>\n",
       "      <td>Electronic check</td>\n",
       "      <td>No</td>\n",
       "      <td>74.232032</td>\n",
       "    </tr>\n",
       "    <tr>\n",
       "      <th>0</th>\n",
       "      <td>Bank transfer (automatic)</td>\n",
       "      <td>No</td>\n",
       "      <td>65.049417</td>\n",
       "    </tr>\n",
       "    <tr>\n",
       "      <th>2</th>\n",
       "      <td>Credit card (automatic)</td>\n",
       "      <td>No</td>\n",
       "      <td>64.562209</td>\n",
       "    </tr>\n",
       "    <tr>\n",
       "      <th>7</th>\n",
       "      <td>Mailed check</td>\n",
       "      <td>Yes</td>\n",
       "      <td>54.557143</td>\n",
       "    </tr>\n",
       "    <tr>\n",
       "      <th>6</th>\n",
       "      <td>Mailed check</td>\n",
       "      <td>No</td>\n",
       "      <td>41.403911</td>\n",
       "    </tr>\n",
       "  </tbody>\n",
       "</table>\n",
       "</div>"
      ],
      "text/plain": [
       "               PaymentMethod Churn       mean\n",
       "5           Electronic check   Yes  78.700980\n",
       "1  Bank transfer (automatic)   Yes  77.875581\n",
       "3    Credit card (automatic)   Yes  77.356034\n",
       "4           Electronic check    No  74.232032\n",
       "0  Bank transfer (automatic)    No  65.049417\n",
       "2    Credit card (automatic)    No  64.562209\n",
       "7               Mailed check   Yes  54.557143\n",
       "6               Mailed check    No  41.403911"
      ]
     },
     "execution_count": 502,
     "metadata": {},
     "output_type": "execute_result"
    }
   ],
   "source": [
    "df.groupby(['PaymentMethod', \"Churn\" ])['MonthlyCharges'].mean().reset_index(name=\"mean\").sort_values(by= \"mean\", ascending=False)"
   ]
  },
  {
   "cell_type": "code",
   "execution_count": 503,
   "id": "7a5ab8e6",
   "metadata": {},
   "outputs": [],
   "source": [
    "mtm = df[df[\"Contract\"] ==\"Month-to-month\"]"
   ]
  },
  {
   "cell_type": "code",
   "execution_count": 504,
   "id": "f52c3814",
   "metadata": {},
   "outputs": [
    {
     "data": {
      "text/plain": [
       "Churn\n",
       "Yes    994\n",
       "No     856\n",
       "Name: count, dtype: int64"
      ]
     },
     "execution_count": 504,
     "metadata": {},
     "output_type": "execute_result"
    }
   ],
   "source": [
    "mtm.groupby(\"PaymentMethod\")[\"Churn\"].value_counts().loc[\"Electronic check\"]"
   ]
  },
  {
   "cell_type": "code",
   "execution_count": 505,
   "id": "7c4bca65",
   "metadata": {},
   "outputs": [
    {
     "data": {
      "text/plain": [
       "np.int64(1850)"
      ]
     },
     "execution_count": 505,
     "metadata": {},
     "output_type": "execute_result"
    }
   ],
   "source": [
    "mtm.groupby(\"PaymentMethod\")[\"Churn\"].value_counts().loc[\"Electronic check\"].sum()"
   ]
  },
  {
   "cell_type": "code",
   "execution_count": 506,
   "id": "90d35ab3",
   "metadata": {},
   "outputs": [
    {
     "data": {
      "text/plain": [
       "Churn\n",
       "No     71.746437\n",
       "Yes    77.782294\n",
       "Name: MonthlyCharges, dtype: float64"
      ]
     },
     "execution_count": 506,
     "metadata": {},
     "output_type": "execute_result"
    }
   ],
   "source": [
    "mtm.groupby([\"PaymentMethod\", \"Churn\"])[\"MonthlyCharges\"].mean().loc[\"Electronic check\"]"
   ]
  },
  {
   "cell_type": "code",
   "execution_count": 507,
   "id": "cf30e078",
   "metadata": {},
   "outputs": [
    {
     "data": {
      "text/plain": [
       "Index(['customerID', 'gender', 'SeniorCitizen', 'Partner', 'Dependents',\n",
       "       'tenure', 'PhoneService', 'MultipleLines', 'InternetService',\n",
       "       'OnlineSecurity', 'OnlineBackup', 'DeviceProtection', 'TechSupport',\n",
       "       'StreamingTV', 'StreamingMovies', 'Contract', 'PaperlessBilling',\n",
       "       'PaymentMethod', 'MonthlyCharges', 'TotalCharges', 'Churn',\n",
       "       'PriceRange', 'price_range'],\n",
       "      dtype='object')"
      ]
     },
     "execution_count": 507,
     "metadata": {},
     "output_type": "execute_result"
    }
   ],
   "source": [
    "df.columns"
   ]
  },
  {
   "cell_type": "markdown",
   "id": "1361997e",
   "metadata": {},
   "source": [
    "## TENURE ANALYSIS"
   ]
  },
  {
   "cell_type": "code",
   "execution_count": 508,
   "id": "0b6b2178",
   "metadata": {},
   "outputs": [
    {
     "data": {
      "text/plain": [
       "dtype('int64')"
      ]
     },
     "execution_count": 508,
     "metadata": {},
     "output_type": "execute_result"
    }
   ],
   "source": [
    "df[\"tenure\"].dtype"
   ]
  },
  {
   "cell_type": "code",
   "execution_count": 509,
   "id": "f5c5385c",
   "metadata": {},
   "outputs": [
    {
     "data": {
      "text/plain": [
       "0        1\n",
       "1       34\n",
       "2        2\n",
       "3       45\n",
       "4        2\n",
       "        ..\n",
       "7038    24\n",
       "7039    72\n",
       "7040    11\n",
       "7041     4\n",
       "7042    66\n",
       "Name: tenure, Length: 7043, dtype: int64"
      ]
     },
     "execution_count": 509,
     "metadata": {},
     "output_type": "execute_result"
    }
   ],
   "source": [
    "df[\"tenure\"]"
   ]
  },
  {
   "cell_type": "code",
   "execution_count": 510,
   "id": "f302c2a8",
   "metadata": {},
   "outputs": [
    {
     "data": {
      "text/plain": [
       "count    7043.000000\n",
       "mean       32.371149\n",
       "std        24.559481\n",
       "min         0.000000\n",
       "25%         9.000000\n",
       "50%        29.000000\n",
       "75%        55.000000\n",
       "max        72.000000\n",
       "Name: tenure, dtype: float64"
      ]
     },
     "execution_count": 510,
     "metadata": {},
     "output_type": "execute_result"
    }
   ],
   "source": [
    "df[\"tenure\"].describe()"
   ]
  },
  {
   "cell_type": "code",
   "execution_count": 511,
   "id": "6bf2a168",
   "metadata": {},
   "outputs": [
    {
     "data": {
      "text/plain": [
       "min      0.000000\n",
       "mean    32.371149\n",
       "max     72.000000\n",
       "Name: tenure, dtype: float64"
      ]
     },
     "execution_count": 511,
     "metadata": {},
     "output_type": "execute_result"
    }
   ],
   "source": [
    "df[\"tenure\"].agg([\"min\", \"mean\", \"max\"])"
   ]
  },
  {
   "cell_type": "code",
   "execution_count": 512,
   "id": "abd67176",
   "metadata": {},
   "outputs": [
    {
     "data": {
      "text/plain": [
       "Churn\n",
       "No     37.569965\n",
       "Yes    17.979133\n",
       "Name: tenure, dtype: float64"
      ]
     },
     "execution_count": 512,
     "metadata": {},
     "output_type": "execute_result"
    }
   ],
   "source": [
    "df.groupby('Churn')['tenure'].mean()"
   ]
  },
  {
   "cell_type": "code",
   "execution_count": 513,
   "id": "01564040",
   "metadata": {},
   "outputs": [
    {
     "data": {
      "text/html": [
       "<div>\n",
       "<style scoped>\n",
       "    .dataframe tbody tr th:only-of-type {\n",
       "        vertical-align: middle;\n",
       "    }\n",
       "\n",
       "    .dataframe tbody tr th {\n",
       "        vertical-align: top;\n",
       "    }\n",
       "\n",
       "    .dataframe thead th {\n",
       "        text-align: right;\n",
       "    }\n",
       "</style>\n",
       "<table border=\"1\" class=\"dataframe\">\n",
       "  <thead>\n",
       "    <tr style=\"text-align: right;\">\n",
       "      <th></th>\n",
       "      <th>count</th>\n",
       "      <th>mean</th>\n",
       "      <th>std</th>\n",
       "      <th>min</th>\n",
       "      <th>25%</th>\n",
       "      <th>50%</th>\n",
       "      <th>75%</th>\n",
       "      <th>max</th>\n",
       "    </tr>\n",
       "    <tr>\n",
       "      <th>Churn</th>\n",
       "      <th></th>\n",
       "      <th></th>\n",
       "      <th></th>\n",
       "      <th></th>\n",
       "      <th></th>\n",
       "      <th></th>\n",
       "      <th></th>\n",
       "      <th></th>\n",
       "    </tr>\n",
       "  </thead>\n",
       "  <tbody>\n",
       "    <tr>\n",
       "      <th>No</th>\n",
       "      <td>5174.0</td>\n",
       "      <td>37.569965</td>\n",
       "      <td>24.113777</td>\n",
       "      <td>0.0</td>\n",
       "      <td>15.0</td>\n",
       "      <td>38.0</td>\n",
       "      <td>61.0</td>\n",
       "      <td>72.0</td>\n",
       "    </tr>\n",
       "    <tr>\n",
       "      <th>Yes</th>\n",
       "      <td>1869.0</td>\n",
       "      <td>17.979133</td>\n",
       "      <td>19.531123</td>\n",
       "      <td>1.0</td>\n",
       "      <td>2.0</td>\n",
       "      <td>10.0</td>\n",
       "      <td>29.0</td>\n",
       "      <td>72.0</td>\n",
       "    </tr>\n",
       "  </tbody>\n",
       "</table>\n",
       "</div>"
      ],
      "text/plain": [
       "        count       mean        std  min   25%   50%   75%   max\n",
       "Churn                                                           \n",
       "No     5174.0  37.569965  24.113777  0.0  15.0  38.0  61.0  72.0\n",
       "Yes    1869.0  17.979133  19.531123  1.0   2.0  10.0  29.0  72.0"
      ]
     },
     "execution_count": 513,
     "metadata": {},
     "output_type": "execute_result"
    }
   ],
   "source": [
    "df.groupby('Churn')['tenure'].describe()"
   ]
  },
  {
   "cell_type": "code",
   "execution_count": 514,
   "id": "6ed4cc44",
   "metadata": {},
   "outputs": [
    {
     "name": "stdout",
     "output_type": "stream",
     "text": [
      "Minimum tenure: 0 months\n",
      "Maximum tenure: 72 months\n",
      "Average tenure: 32.37 months\n"
     ]
    }
   ],
   "source": [
    "# Check the tenure column\n",
    "df['tenure'].describe()\n",
    "\n",
    "# See range\n",
    "print(f\"Minimum tenure: {df['tenure'].min()} months\")\n",
    "print(f\"Maximum tenure: {df['tenure'].max()} months\")\n",
    "print(f\"Average tenure: {df['tenure'].mean():.2f} months\")"
   ]
  },
  {
   "cell_type": "code",
   "execution_count": 515,
   "id": "f8f64495",
   "metadata": {},
   "outputs": [],
   "source": [
    "df['TenureRange'] = df['tenure'].apply(\n",
    "    lambda x: 'Short(less than 12months)' if x <= 12 else 'Medium (13-24months)' if x <= 24 else 'Long (25months above)')"
   ]
  },
  {
   "cell_type": "code",
   "execution_count": 516,
   "id": "2394ec57",
   "metadata": {},
   "outputs": [
    {
     "data": {
      "text/plain": [
       "<bound method Series.sort_values of TenureRange\n",
       "Long (25months above)        3833\n",
       "Short(less than 12months)    2186\n",
       "Medium (13-24months)         1024\n",
       "Name: count, dtype: int64>"
      ]
     },
     "execution_count": 516,
     "metadata": {},
     "output_type": "execute_result"
    }
   ],
   "source": [
    "df['TenureRange'].value_counts().sort_values"
   ]
  },
  {
   "cell_type": "code",
   "execution_count": 517,
   "id": "1335fc51",
   "metadata": {},
   "outputs": [
    {
     "data": {
      "text/plain": [
       "TenureRange                Churn\n",
       "Long (25months above)      No       3295\n",
       "                           Yes       538\n",
       "Medium (13-24months)       No        730\n",
       "                           Yes       294\n",
       "Short(less than 12months)  No       1149\n",
       "                           Yes      1037\n",
       "Name: count, dtype: int64"
      ]
     },
     "execution_count": 517,
     "metadata": {},
     "output_type": "execute_result"
    }
   ],
   "source": [
    "df.groupby('TenureRange')[\"Churn\"].value_counts()"
   ]
  },
  {
   "cell_type": "code",
   "execution_count": 518,
   "id": "98aa4911",
   "metadata": {},
   "outputs": [
    {
     "data": {
      "text/html": [
       "<div>\n",
       "<style scoped>\n",
       "    .dataframe tbody tr th:only-of-type {\n",
       "        vertical-align: middle;\n",
       "    }\n",
       "\n",
       "    .dataframe tbody tr th {\n",
       "        vertical-align: top;\n",
       "    }\n",
       "\n",
       "    .dataframe thead th {\n",
       "        text-align: right;\n",
       "    }\n",
       "</style>\n",
       "<table border=\"1\" class=\"dataframe\">\n",
       "  <thead>\n",
       "    <tr style=\"text-align: right;\">\n",
       "      <th>Churn</th>\n",
       "      <th>No</th>\n",
       "      <th>Yes</th>\n",
       "    </tr>\n",
       "    <tr>\n",
       "      <th>TenureRange</th>\n",
       "      <th></th>\n",
       "      <th></th>\n",
       "    </tr>\n",
       "  </thead>\n",
       "  <tbody>\n",
       "    <tr>\n",
       "      <th>Long (25months above)</th>\n",
       "      <td>3295</td>\n",
       "      <td>538</td>\n",
       "    </tr>\n",
       "    <tr>\n",
       "      <th>Medium (13-24months)</th>\n",
       "      <td>730</td>\n",
       "      <td>294</td>\n",
       "    </tr>\n",
       "    <tr>\n",
       "      <th>Short(less than 12months)</th>\n",
       "      <td>1149</td>\n",
       "      <td>1037</td>\n",
       "    </tr>\n",
       "  </tbody>\n",
       "</table>\n",
       "</div>"
      ],
      "text/plain": [
       "Churn                        No   Yes\n",
       "TenureRange                          \n",
       "Long (25months above)      3295   538\n",
       "Medium (13-24months)        730   294\n",
       "Short(less than 12months)  1149  1037"
      ]
     },
     "execution_count": 518,
     "metadata": {},
     "output_type": "execute_result"
    }
   ],
   "source": [
    "pd.crosstab(df[\"TenureRange\"], df[\"Churn\"])"
   ]
  },
  {
   "cell_type": "code",
   "execution_count": 519,
   "id": "5263cd29",
   "metadata": {},
   "outputs": [
    {
     "data": {
      "text/html": [
       "<div>\n",
       "<style scoped>\n",
       "    .dataframe tbody tr th:only-of-type {\n",
       "        vertical-align: middle;\n",
       "    }\n",
       "\n",
       "    .dataframe tbody tr th {\n",
       "        vertical-align: top;\n",
       "    }\n",
       "\n",
       "    .dataframe thead th {\n",
       "        text-align: right;\n",
       "    }\n",
       "</style>\n",
       "<table border=\"1\" class=\"dataframe\">\n",
       "  <thead>\n",
       "    <tr style=\"text-align: right;\">\n",
       "      <th>Churn</th>\n",
       "      <th>No</th>\n",
       "      <th>Yes</th>\n",
       "    </tr>\n",
       "    <tr>\n",
       "      <th>TenureRange</th>\n",
       "      <th></th>\n",
       "      <th></th>\n",
       "    </tr>\n",
       "  </thead>\n",
       "  <tbody>\n",
       "    <tr>\n",
       "      <th>Long (25months above)</th>\n",
       "      <td>85.963997</td>\n",
       "      <td>14.036003</td>\n",
       "    </tr>\n",
       "    <tr>\n",
       "      <th>Medium (13-24months)</th>\n",
       "      <td>71.289062</td>\n",
       "      <td>28.710938</td>\n",
       "    </tr>\n",
       "    <tr>\n",
       "      <th>Short(less than 12months)</th>\n",
       "      <td>52.561757</td>\n",
       "      <td>47.438243</td>\n",
       "    </tr>\n",
       "  </tbody>\n",
       "</table>\n",
       "</div>"
      ],
      "text/plain": [
       "Churn                             No        Yes\n",
       "TenureRange                                    \n",
       "Long (25months above)      85.963997  14.036003\n",
       "Medium (13-24months)       71.289062  28.710938\n",
       "Short(less than 12months)  52.561757  47.438243"
      ]
     },
     "execution_count": 519,
     "metadata": {},
     "output_type": "execute_result"
    }
   ],
   "source": [
    "pd.crosstab(df[\"TenureRange\"], df[\"Churn\"], normalize=\"index\")*100"
   ]
  },
  {
   "cell_type": "code",
   "execution_count": 520,
   "id": "67bfb7d5",
   "metadata": {},
   "outputs": [
    {
     "name": "stderr",
     "output_type": "stream",
     "text": [
      "C:\\Users\\Administrator\\AppData\\Local\\Temp\\ipykernel_13472\\112362100.py:8: FutureWarning: The default of observed=False is deprecated and will be changed to True in a future version of pandas. Pass observed=False to retain current behavior or observed=True to adopt the future default and silence this warning.\n",
      "  df.groupby('TenureGroup')['Churn'].value_counts(normalize=True) * 100\n"
     ]
    },
    {
     "data": {
      "text/html": [
       "<div>\n",
       "<style scoped>\n",
       "    .dataframe tbody tr th:only-of-type {\n",
       "        vertical-align: middle;\n",
       "    }\n",
       "\n",
       "    .dataframe tbody tr th {\n",
       "        vertical-align: top;\n",
       "    }\n",
       "\n",
       "    .dataframe thead th {\n",
       "        text-align: right;\n",
       "    }\n",
       "</style>\n",
       "<table border=\"1\" class=\"dataframe\">\n",
       "  <thead>\n",
       "    <tr style=\"text-align: right;\">\n",
       "      <th>Churn</th>\n",
       "      <th>No</th>\n",
       "      <th>Yes</th>\n",
       "    </tr>\n",
       "    <tr>\n",
       "      <th>TenureGroup</th>\n",
       "      <th></th>\n",
       "      <th></th>\n",
       "    </tr>\n",
       "  </thead>\n",
       "  <tbody>\n",
       "    <tr>\n",
       "      <th>0-12 months</th>\n",
       "      <td>52.321839</td>\n",
       "      <td>47.678161</td>\n",
       "    </tr>\n",
       "    <tr>\n",
       "      <th>13-24 months</th>\n",
       "      <td>71.289062</td>\n",
       "      <td>28.710938</td>\n",
       "    </tr>\n",
       "    <tr>\n",
       "      <th>25-36 months</th>\n",
       "      <td>78.365385</td>\n",
       "      <td>21.634615</td>\n",
       "    </tr>\n",
       "    <tr>\n",
       "      <th>37-48 months</th>\n",
       "      <td>80.971129</td>\n",
       "      <td>19.028871</td>\n",
       "    </tr>\n",
       "    <tr>\n",
       "      <th>49+ months</th>\n",
       "      <td>90.486824</td>\n",
       "      <td>9.513176</td>\n",
       "    </tr>\n",
       "  </tbody>\n",
       "</table>\n",
       "</div>"
      ],
      "text/plain": [
       "Churn                No        Yes\n",
       "TenureGroup                       \n",
       "0-12 months   52.321839  47.678161\n",
       "13-24 months  71.289062  28.710938\n",
       "25-36 months  78.365385  21.634615\n",
       "37-48 months  80.971129  19.028871\n",
       "49+ months    90.486824   9.513176"
      ]
     },
     "execution_count": 520,
     "metadata": {},
     "output_type": "execute_result"
    }
   ],
   "source": [
    "# Create tenure categories\n",
    "df['TenureGroup'] = pd.cut(df['tenure'], \n",
    "                           bins=[0, 12, 24, 36, 48, 100],\n",
    "                           labels=['0-12 months', '13-24 months', \n",
    "                                   '25-36 months', '37-48 months', '49+ months'])\n",
    "\n",
    "# Churn rate by tenure group\n",
    "df.groupby('TenureGroup')['Churn'].value_counts(normalize=True) * 100\n",
    "\n",
    "# OR as table:\n",
    "pd.crosstab(df['TenureGroup'], df['Churn'], normalize='index') * 100"
   ]
  },
  {
   "cell_type": "code",
   "execution_count": 521,
   "id": "4dbdf65b",
   "metadata": {},
   "outputs": [
    {
     "data": {
      "text/plain": [
       "TenureGroup\n",
       "0-12 months     47.678161\n",
       "13-24 months    28.710938\n",
       "25-36 months    21.634615\n",
       "37-48 months    19.028871\n",
       "49+ months       9.513176\n",
       "Name: Yes, dtype: float64"
      ]
     },
     "execution_count": 521,
     "metadata": {},
     "output_type": "execute_result"
    }
   ],
   "source": [
    "pd.crosstab(df['TenureGroup'], df['Churn'], normalize='index').loc[:,\"Yes\"] * 100"
   ]
  },
  {
   "cell_type": "code",
   "execution_count": 522,
   "id": "cfbde010",
   "metadata": {},
   "outputs": [
    {
     "data": {
      "text/plain": [
       "np.float64(17.979133226324237)"
      ]
     },
     "execution_count": 522,
     "metadata": {},
     "output_type": "execute_result"
    }
   ],
   "source": [
    "df.groupby('Churn')[\"tenure\"].mean().loc[\"Yes\"]"
   ]
  },
  {
   "cell_type": "code",
   "execution_count": 523,
   "id": "0d27c8da",
   "metadata": {},
   "outputs": [
    {
     "data": {
      "text/plain": [
       "np.float64(37.56996521066873)"
      ]
     },
     "execution_count": 523,
     "metadata": {},
     "output_type": "execute_result"
    }
   ],
   "source": [
    "df.groupby('Churn')[\"tenure\"].mean().loc[\"No\"]"
   ]
  },
  {
   "cell_type": "code",
   "execution_count": 524,
   "id": "003dd541",
   "metadata": {},
   "outputs": [
    {
     "name": "stderr",
     "output_type": "stream",
     "text": [
      "C:\\Users\\Administrator\\AppData\\Local\\Temp\\ipykernel_13472\\1026828419.py:2: FutureWarning: The default of observed=False is deprecated and will be changed to True in a future version of pandas. Pass observed=False to retain current behavior or observed=True to adopt the future default and silence this warning.\n",
      "  tenure_churn = df.groupby('TenureGroup')['Churn'].apply(lambda x: (x == 'Yes').sum() / len(x) * 100)\n"
     ]
    }
   ],
   "source": [
    "# Calculate churn rate for each tenure group\n",
    "tenure_churn = df.groupby('TenureGroup')['Churn'].apply(lambda x: (x == 'Yes').sum() / len(x) * 100)"
   ]
  },
  {
   "cell_type": "code",
   "execution_count": 525,
   "id": "e344a614",
   "metadata": {},
   "outputs": [
    {
     "data": {
      "image/png": "[encoded data removed]",
      "text/plain": [
       "<Figure size 1000x600 with 1 Axes>"
      ]
     },
     "metadata": {},
     "output_type": "display_data"
    },
    {
     "name": "stdout",
     "output_type": "stream",
     "text": [
      "Churn Rate by Tenure:\n",
      "  0-12 months: 47.68%\n",
      "  13-24 months: 28.71%\n",
      "  25-36 months: 21.63%\n",
      "  37-48 months: 19.03%\n",
      "  49+ months: 9.51%\n",
      " Message: Survive the first year, and they stay!\n"
     ]
    }
   ],
   "source": [
    "\n",
    "plt.figure(figsize=(10, 6))\n",
    "colors = ['red', 'orange', 'green']\n",
    "bars = plt.bar(tenure_churn.index, tenure_churn.values, color=colors)\n",
    "plt.title('Churn Rate by Customer Tenure - First Year is CRITICAL!', fontsize=14, fontweight='bold')\n",
    "plt.xlabel('Tenure Group', fontsize=12)\n",
    "plt.ylabel('Churn Rate (%)', fontsize=12)\n",
    "plt.xticks(rotation=15)\n",
    "plt.ylim(0, 50)\n",
    "\n",
    "# Add percentage labels on top of bars\n",
    "for bar, value in zip(bars, tenure_churn.values):\n",
    "    plt.text(bar.get_x() + bar.get_width()/2, value + 1, \n",
    "             f'{value:.1f}%', ha='center', fontsize=11, fontweight='bold')\n",
    "\n",
    "plt.tight_layout()\n",
    "plt.show()\n",
    "\n",
    "#Summary\n",
    "print(\"Churn Rate by Tenure:\")\n",
    "for group, rate in tenure_churn.items():\n",
    "    print(f\"  {group}: {rate:.2f}%\")\n",
    "print(f\" Message: Survive the first year, and they stay!\")"
   ]
  },
  {
   "cell_type": "markdown",
   "id": "e1091994",
   "metadata": {},
   "source": [
    "## 🔍 Key Findings\n",
    "\n",
    "### 1. Overall Churn Status\n",
    "- **Total Customers:** 7,043\n",
    "- **Churned:** 1,869 customers (26.54%)\n",
    "- **Retained:** 5,174 customers (73.46%)\n",
    "- **Assessment:** CRISIS LEVEL - Industry standard is 5-10% monthly churn\n",
    "\n",
    "### 2. Top Churn Drivers (Ranked by Impact)\n",
    "\n",
    "| Rank | Factor | High Risk Segment | Churn Rate | Low Risk Segment | Churn Rate | Gap |\n",
    "|------|--------|-------------------|------------|------------------|------------|-----|\n",
    "| 1 | Contract Type | Month-to-month | 42.71% | Two year | 2.83% | 39.88% |\n",
    "| 2 | Customer Tenure | 0-12 months | 47.44% | 25+ months | 14.04% | 33.40% |\n",
    "| 3 | Payment Method | Electronic check | 45.29% | Credit card (auto) | 15.24% | 30.05% |\n",
    "| 4 | Age Group | Senior citizens | 41.68% | Non-seniors | 23.61% | 18.07% |\n",
    "| 5 | Pricing | High charges ($74 avg) | Higher churn | Lower charges ($61 avg) | Lower churn | $13 |\n",
    "| 6 | Relationship Status | No partner | 32.96% | Has partner | 19.66% | 13.30% |\n",
    "| 7 | Gender | Female | 26.92% | Male | 26.16% | 0.76% |\n",
    "\n",
    "### 3. High-Risk Customer Profile\n",
    "**Customers most likely to churn have:**\n",
    "- Month-to-month contracts\n",
    "- Electronic check payment method\n",
    "- Short tenure (less than 12 months)\n",
    "- Higher monthly charges ($70+)\n",
    "- Senior citizens without partners\n",
    "\n",
    "**Estimated churn probability for this profile: 60-70%**\n",
    "\n",
    "### 4. Low-Risk Customer Profile\n",
    "**Customers least likely to churn have:**\n",
    "- Two-year contracts\n",
    "- Automatic payment methods (credit card or bank transfer)\n",
    "- Long tenure (25+ months)\n",
    "- Moderate monthly charges ($60-65)\n",
    "- Non-seniors with partners\n",
    "\n",
    "**Estimated churn probability for this profile: 5-10%**"
   ]
  },
  {
   "cell_type": "markdown",
   "id": "03e44447",
   "metadata": {},
   "source": [
    "## 💡 Critical Insights\n",
    "\n",
    "### Insight 1: Contract Type is the Dominant Factor\n",
    "- Month-to-month customers churn at **15x the rate** of two-year contract customers\n",
    "- 55% of customer base (3,875 customers) are on the worst contract type\n",
    "- **Root cause:** No commitment barrier, easy to cancel anytime\n",
    "\n",
    "### Insight 2: The First Year is Make-or-Break\n",
    "- New customers (0-12 months) have a **47.44% churn rate**\n",
    "- After 25 months, churn drops to only **14.04%**\n",
    "- **Implication:** If customers survive first year, they become loyal\n",
    "\n",
    "### Insight 3: Payment Method Reflects Customer Commitment\n",
    "- Electronic check users pay **$77/month on average** (highest)\n",
    "- They also have the **highest churn rate** (45.29%)\n",
    "- **Surprising finding:** Mailed check users pay only $42/month and have 19% churn\n",
    "- **Conclusion:** E-check customers are overpaying for poor experience\n",
    "\n",
    "### Insight 4: Factors are Interconnected\n",
    "Churn isn't caused by single factors, but by **combinations:**\n",
    "- Month-to-month + E-check + New customer = Ultra high risk (~60% churn)\n",
    "- Two-year + Autopay + Veteran customer = Ultra low risk (~5% churn)"
   ]
  },
  {
   "cell_type": "markdown",
   "id": "df251e3a",
   "metadata": {},
   "source": [
    "## 🎯 Business Recommendations\n",
    "\n",
    "### Priority 1: Contract Strategy (Highest Impact)\n",
    "**Problem:** 55% of customers on month-to-month contracts with 42.71% churn rate\n",
    "\n",
    "**Recommendations:**\n",
    "1. **For New Customers:**\n",
    "   - Make two-year contracts the default option\n",
    "   - Price structure: \n",
    "     - Month-to-month: $75/month (positioned as \"premium flexibility\")\n",
    "     - One-year: $60/month (20% discount)\n",
    "     - Two-year: $50/month (33% discount)\n",
    "   - Offer 30-day trial, then auto-convert to annual\n",
    "\n",
    "2. **For Existing Month-to-Month Customers:**\n",
    "   - Proactive upgrade campaign targeting high-risk profiles\n",
    "   - Offer: \"Lock in your current rate - upgrade to annual and get 2 free months\"\n",
    "   - Target the 3,875 month-to-month customers\n",
    "   - Goal: Convert 50% to annual contracts within 6 months\n",
    "\n",
    "**Expected Impact:**\n",
    "- Convert 1,938 customers from 42.71% churn → 11.27% churn\n",
    "- Save ~609 customers per year\n",
    "- Revenue saved: $365,400 annually\n",
    "- Plus ongoing revenue from retained customers\n",
    "\n",
    "---\n",
    "\n",
    "### Priority 2: Payment Method Migration (High Impact)\n",
    "**Problem:** Electronic check users have 45.29% churn and pay $77/month (overpaying)\n",
    "\n",
    "**Recommendations:**\n",
    "1. **Incentivize Automatic Payments:**\n",
    "   - 10% discount for switching to autopay ($7-8/month savings)\n",
    "   - Waive setup fees for automatic payments\n",
    "   - Bonus: First month free when enabling autopay\n",
    "   - Add $5/month \"manual processing fee\" for e-check\n",
    "\n",
    "2. **Targeted E-Check User Campaign:**\n",
    "   - Email campaign: \"You're paying $77/month. Switch to autopay and pay only $62\"\n",
    "   - Highlight convenience: \"Never write another check\"\n",
    "   - Address security concerns with guarantees\n",
    "   - Priority target: E-check + month-to-month customers\n",
    "\n",
    "3. **Technical Improvements:**\n",
    "   - One-click autopay setup\n",
    "   - Mobile-friendly payment management\n",
    "   - Pre-populate payment info during signup\n",
    "\n",
    "**Expected Impact:**\n",
    "- Convert 50% of e-check users (1,183 customers) to autopay\n",
    "- Reduce churn from 45.29% → 15.24%\n",
    "- Save ~355 customers per year\n",
    "- Revenue saved: $213,240 annually\n",
    "\n",
    "---\n",
    "\n",
    "### Priority 3: First-Year Retention Program (High Impact)\n",
    "**Problem:** 47.44% of new customers churn in first 12 months\n",
    "\n",
    "**Recommendations:**\n",
    "1. **Enhanced Onboarding (Days 1-30):**\n",
    "   - Welcome email series (days 1, 3, 7, 14, 30)\n",
    "   - Setup assistance via chat/phone\n",
    "   - Quick-win tutorials (show value immediately)\n",
    "   - Assign customer success manager for first 90 days\n",
    "\n",
    "2. **Proactive Engagement (Months 1-6):**\n",
    "   - Usage monitoring (flag inactive users within 48 hours)\n",
    "   - Automated check-in emails at months 1, 3, 6\n",
    "   - Educational content on maximizing value\n",
    "   - Celebrate milestones (30 days, 90 days, 6 months)\n",
    "\n",
    "3. **Lock-In Strategy (Months 6-12):**\n",
    "   - At month 6: Offer to upgrade to annual at discount\n",
    "   - \"You've been with us 6 months - ready to lock in this rate?\"\n",
    "   - Loyalty rewards for reaching 12 months (bonus features, credit)\n",
    "   - Make psychological commitment stronger\n",
    "\n",
    "**Expected Impact:**\n",
    "- Reduce first-year churn from 47.44% → 30%\n",
    "- Save ~350 customers per year from new cohorts\n",
    "- Revenue saved: $273,000 annually (ongoing benefit)\n",
    "\n",
    "---\n",
    "\n",
    "### Priority 4: Senior Citizen Support Program (Moderate Impact)\n",
    "**Problem:** Senior citizens (16% of customer base) have 41.68% churn rate\n",
    "\n",
    "**Recommendations:**\n",
    "1. **Senior-Friendly Experience:**\n",
    "   - Simplified user interface option\n",
    "   - Dedicated senior support hotline (9am-5pm with patient staff)\n",
    "   - Large-print bills and clear language\n",
    "   - In-person or video setup assistance\n",
    "\n",
    "2. **Pricing Adjustments:**\n",
    "   - Senior discount program (10% off for 65+)\n",
    "   - Fixed-rate guarantee (no surprise increases)\n",
    "   - Flexible billing dates (align with Social Security payments)\n",
    "\n",
    "3. **Targeted Communication:**\n",
    "   - Phone calls instead of just emails\n",
    "   - Educational workshops (in-person or video)\n",
    "   - Partner with senior centers/communities\n",
    "\n",
    "**Expected Impact:**\n",
    "- Reduce senior churn from 41.68% → 30%\n",
    "- Save ~133 senior customers per year\n",
    "- Revenue saved: $95,760 annually\n",
    "\n",
    "---\n",
    "\n",
    "### Priority 5: Pricing Transparency & Value Communication (Moderate Impact)\n",
    "**Problem:** Churners pay $13 more per month than stayers (perceived poor value)\n",
    "\n",
    "**Recommendations:**\n",
    "1. **Pricing Audit:**\n",
    "   - Review why e-check users pay $77 vs mailed check $42\n",
    "   - Identify customers on old/expensive plans\n",
    "   - Proactively migrate to better-value plans\n",
    "\n",
    "2. **Value Communication:**\n",
    "   - Monthly \"Your Savings\" email showing value delivered\n",
    "   - Usage reports: \"You used X GB, saved $Y vs competitors\"\n",
    "   - Feature education: \"Did you know you have access to...\"\n",
    "   - Transparent pricing with no hidden fees\n",
    "\n",
    "3. **Price Protection:**\n",
    "   - Lock in rates for multi-year contracts\n",
    "   - Notify customers 60 days before any increase (not 30)\n",
    "   - Grandfather existing customers on rate changes\n",
    "\n",
    "**Expected Impact:**\n",
    "- Reduce price-driven churn by 20%\n",
    "- Improve customer satisfaction scores\n",
    "- Estimated revenue saved: $150,000 annually"
   ]
  },
  {
   "cell_type": "markdown",
   "id": "f68bf544",
   "metadata": {},
   "source": [
    "## 💰 Financial Impact Summary\n",
    "\n",
    "### Current State - Revenue at Risk\n",
    "- **Total churning customers:** 1,869 per year\n",
    "- **Average monthly charge:** $65\n",
    "- **Annual revenue loss:** 1,869 × $65 × 12 = **$1,457,580 per year**\n",
    "\n",
    "### Projected Impact of Recommendations\n",
    "\n",
    "| Initiative | Customers Saved | Annual Revenue Saved | Implementation Cost | Net Benefit | ROI |\n",
    "|------------|-----------------|---------------------|---------------------|-------------|-----|\n",
    "| Contract strategy | 609 | $365,400 | $100,000 | $265,400 | 265% |\n",
    "| Payment migration | 355 | $213,240 | $50,000 | $163,240 | 326% |\n",
    "| First-year retention | 350 | $273,000 | $200,000 | $73,000 | 37% |\n",
    "| Senior support | 133 | $95,760 | $75,000 | $20,760 | 28% |\n",
    "| Pricing transparency | ~150 | $150,000 | $25,000 | $125,000 | 500% |\n",
    "| **TOTAL** | **~1,597** | **$1,097,400** | **$450,000** | **$647,400** | **144%** |\n",
    "\n",
    "### Long-Term Value\n",
    "- Retained customers continue paying beyond year 1\n",
    "- Reduced churn = improved customer lifetime value\n",
    "- Better reputation = easier acquisition\n",
    "- **Estimated 3-year value: $3.29M**\n",
    "\n",
    "### Success Metrics\n",
    "- Reduce overall churn from 26.54% → 18% within 12 months\n",
    "- Increase two-year contract adoption from 24% → 40%\n",
    "- Reduce e-check usage from 34% → 15%\n",
    "- Improve first-year retention from 52.56% → 70%"
   ]
  },
  {
   "cell_type": "markdown",
   "id": "a2624e06",
   "metadata": {},
   "source": [
    "## 📅 Implementation Timeline\n",
    "\n",
    "### Phase 1: Quick Wins (Months 1-3)\n",
    "- ✅ Launch contract upgrade campaign for existing customers\n",
    "- ✅ Implement autopay incentives and e-check fees\n",
    "- ✅ Change default signup to annual contracts\n",
    "- ✅ Begin first-year customer engagement program\n",
    "- **Expected impact: 25% churn reduction in targeted segments**\n",
    "\n",
    "### Phase 2: Systematic Changes (Months 4-6)\n",
    "- ✅ Roll out enhanced onboarding program\n",
    "- ✅ Develop senior support infrastructure\n",
    "- ✅ Conduct pricing audit and migrations\n",
    "- ✅ Implement usage monitoring and early warning system\n",
    "- **Expected impact: 40% churn reduction in targeted segments**\n",
    "\n",
    "### Phase 3: Optimization (Months 7-12)\n",
    "- ✅ Refine strategies based on results\n",
    "- ✅ Expand successful programs\n",
    "- ✅ Build predictive churn model\n",
    "- ✅ Develop automated intervention triggers\n",
    "- **Expected impact: Overall churn reduced to 18-20%**\n",
    "\n",
    "### Phase 4: Long-term Strategy (Months 13+)\n",
    "- ✅ Continuous improvement based on data\n",
    "- ✅ Product enhancements based on churn insights\n",
    "- ✅ Customer lifecycle management system\n",
    "- ✅ Proactive retention culture embedded"
   ]
  },
  {
   "cell_type": "markdown",
   "id": "aa5c741d",
   "metadata": {},
   "source": [
    "## 🎓 Conclusion\n",
    "\n",
    "This exploratory data analysis has identified the root causes of StreamTech's 26.54% churn rate and provided a data-driven roadmap to reduce churn by 30-40%.\n",
    "\n",
    "### Key Takeaways:\n",
    "1. **Churn is solvable** - It's not random; clear patterns exist\n",
    "2. **Contract type matters most** - Commitment drives retention\n",
    "3. **First year is critical** - Survive year one = loyal customer\n",
    "4. **Multiple factors interact** - Need holistic approach, not single fix\n",
    "5. **High ROI potential** - $647K net benefit year 1, $3.29M over 3 years\n",
    "\n",
    "\n",
    "\n",
    "---\n",
    "\n",
    "**Analysis completed by:** [Igein Emiataehi aka Emi]  \n",
    "**Date:** [September 2025]  \n",
    "**Tools used:** Python, Pandas, Vs code, Jupyter Notebook  \n",
    "**Dataset:** Telco Customer Churn (Kaggle)"
   ]
  }
 ],
 "metadata": {
  "kernelspec": {
   "display_name": "churn_env",
   "language": "python",
   "name": "python3"
  },
  "language_info": {
   "codemirror_mode": {
    "name": "ipython",
    "version": 3
   },
   "file_extension": ".py",
   "mimetype": "text/x-python",
   "name": "python",
   "nbconvert_exporter": "python",
   "pygments_lexer": "ipython3",
   "version": "3.11.13"
  }
 },
 "nbformat": 4,
 "nbformat_minor": 5
}
